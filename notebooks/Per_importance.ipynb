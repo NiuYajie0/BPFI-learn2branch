{
 "cells": [
  {
   "cell_type": "code",
   "execution_count": 1,
   "metadata": {},
   "outputs": [],
   "source": [
    "import os\n",
    "os.chdir(\"../\")"
   ]
  },
  {
   "cell_type": "code",
   "execution_count": 2,
   "metadata": {},
   "outputs": [],
   "source": [
    "import pandas as pd\n",
    "import glob\n",
    "import time\n",
    "import numpy as np\n",
    "import matplotlib.pyplot as plt"
   ]
  },
  {
   "cell_type": "code",
   "execution_count": 279,
   "metadata": {},
   "outputs": [],
   "source": [
    "resultDir = ' '\n",
    "problem = 'indset' # choices=['setcover', 'cauctions', 'facilities', 'indset']\n",
    "tag = 'BPFI-GCNN'\n",
    "model = ['Full-GCNN']\n",
    "model1 = model[0]\n",
    "features = ['edge_0', 'constraint_0', 'constraint_1' ,'constraint_2', 'constraint_3', 'constraint_4', 'variable_0', 'variable_1', 'variable_4', 'variable_5', 'variable_6','variable_7','variable_8', 'variable_9', 'variable_10', 'variable_11', 'variable_12']\n",
    "metric_columns = ['acc@1','acc@3','acc@5','acc@10']\n",
    "Lodi_files = glob.glob(f'{resultDir}\\{problem}\\{model1}*.csv')\n",
    "feat_files1 = glob.glob(f'{resultDir}\\{problem}\\{tag}\\{features[0]}\\*.csv')\n",
    "feat_files2 = glob.glob(f'{resultDir}\\{problem}\\{tag}\\{features[1]}\\*.csv')\n",
    "feat_files3 = glob.glob(f'{resultDir}\\{problem}\\{tag}\\{features[2]}\\*.csv')\n",
    "feat_files4 = glob.glob(f'{resultDir}\\{problem}\\{tag}\\{features[3]}\\*.csv')\n",
    "feat_files5 = glob.glob(f'{resultDir}\\{problem}\\{tag}\\{features[4]}\\*.csv')\n",
    "feat_files6 = glob.glob(f'{resultDir}\\{problem}\\{tag}\\{features[5]}\\*.csv')\n",
    "feat_files7 = glob.glob(f'{resultDir}\\{problem}\\{tag}\\{features[6]}\\*.csv')\n",
    "feat_files8 = glob.glob(f'{resultDir}\\{problem}\\{tag}\\{features[7]}\\*.csv')\n",
    "feat_files9 = glob.glob(f'{resultDir}\\{problem}\\{tag}\\{features[8]}\\*.csv')\n",
    "feat_files10 = glob.glob(f'{resultDir}\\{problem}\\{tag}\\{features[9]}\\*.csv')\n",
    "feat_files11 = glob.glob(f'{resultDir}\\{problem}\\{tag}\\{features[10]}\\*.csv')\n",
    "feat_files12 = glob.glob(f'{resultDir}\\{problem}\\{tag}\\{features[11]}\\*.csv')\n",
    "feat_files13 = glob.glob(f'{resultDir}\\{problem}\\{tag}\\{features[12]}\\*.csv')\n",
    "feat_files14 = glob.glob(f'{resultDir}\\{problem}\\{tag}\\{features[13]}\\*.csv')\n",
    "feat_files15 = glob.glob(f'{resultDir}\\{problem}\\{tag}\\{features[14]}\\*.csv')\n",
    "feat_files16 = glob.glob(f'{resultDir}\\{problem}\\{tag}\\{features[15]}\\*.csv')\n",
    "feat_files17 = glob.glob(f'{resultDir}\\{problem}\\{tag}\\{features[16]}\\*.csv')\n",
    "mean = np.zeros(17)"
   ]
  },
  {
   "cell_type": "code",
   "execution_count": 282,
   "metadata": {},
   "outputs": [
    {
     "data": {
      "text/plain": [
       "0.26225"
      ]
     },
     "execution_count": 282,
     "metadata": {},
     "output_type": "execute_result"
    }
   ],
   "source": [
    "targetfile_Lodi = Lodi_files[0]\n",
    "target_df_Lodi = pd.read_csv(targetfile_Lodi)\n",
    "mean[0] = target_df_Lodi[metric_columns].mean()[2]\n",
    "mean[0]"
   ]
  },
  {
   "cell_type": "code",
   "execution_count": 283,
   "metadata": {},
   "outputs": [
    {
     "data": {
      "text/plain": [
       "array([0.269  , 0.26725, 0.2745 , 0.2725 , 0.27075, 0.26675, 0.269  ,\n",
       "       0.27   , 0.2695 , 0.26875, 0.27075, 0.2705 , 0.2655 , 0.26925,\n",
       "       0.2705 , 0.268  , 0.271  , 0.26675, 0.27025, 0.26875])"
      ]
     },
     "execution_count": 283,
     "metadata": {},
     "output_type": "execute_result"
    }
   ],
   "source": [
    "edge = np.zeros(20)\n",
    "for i in range(len(edge)):\n",
    "   df = pd.read_csv(feat_files1[i])\n",
    "   edge[i] = df[metric_columns].mean()[2]\n",
    "edge"
   ]
  },
  {
   "cell_type": "code",
   "execution_count": 286,
   "metadata": {},
   "outputs": [
    {
     "data": {
      "text/plain": [
       "-0.007212500000000011"
      ]
     },
     "execution_count": 286,
     "metadata": {},
     "output_type": "execute_result"
    }
   ],
   "source": [
    "score1 = mean[0]-edge.mean()\n",
    "score1"
   ]
  },
  {
   "cell_type": "code",
   "execution_count": 287,
   "metadata": {},
   "outputs": [
    {
     "data": {
      "text/plain": [
       "0.0020283537043622357"
      ]
     },
     "execution_count": 287,
     "metadata": {},
     "output_type": "execute_result"
    }
   ],
   "source": [
    "std1 = edge.std()\n",
    "std1"
   ]
  },
  {
   "cell_type": "code",
   "execution_count": 288,
   "metadata": {},
   "outputs": [
    {
     "data": {
      "text/plain": [
       "array([0.22525, 0.22525, 0.22525, 0.22475, 0.22475, 0.22575, 0.22725,\n",
       "       0.225  , 0.22325, 0.22425, 0.22575, 0.225  , 0.22475, 0.225  ,\n",
       "       0.2245 , 0.226  , 0.224  , 0.22475, 0.225  , 0.223  ])"
      ]
     },
     "execution_count": 288,
     "metadata": {},
     "output_type": "execute_result"
    }
   ],
   "source": [
    "constraint_1 = np.zeros(20)\n",
    "for i in range(len(constraint_1)):\n",
    "   df = pd.read_csv(feat_files2[i])\n",
    "   constraint_1[i] = df[metric_columns].mean()[2]\n",
    "constraint_1"
   ]
  },
  {
   "cell_type": "code",
   "execution_count": 294,
   "metadata": {},
   "outputs": [
    {
     "data": {
      "text/plain": [
       "0.037325000000000025"
      ]
     },
     "execution_count": 294,
     "metadata": {},
     "output_type": "execute_result"
    }
   ],
   "source": [
    "score2 = mean[0]-constraint_1.mean()\n",
    "score2"
   ]
  },
  {
   "cell_type": "code",
   "execution_count": 295,
   "metadata": {},
   "outputs": [
    {
     "data": {
      "text/plain": [
       "0.0009051933495115831"
      ]
     },
     "execution_count": 295,
     "metadata": {},
     "output_type": "execute_result"
    }
   ],
   "source": [
    "std2 = constraint_1.std()\n",
    "std2"
   ]
  },
  {
   "cell_type": "code",
   "execution_count": 296,
   "metadata": {},
   "outputs": [
    {
     "data": {
      "text/plain": [
       "array([0.21975, 0.21925, 0.22025, 0.221  , 0.2205 , 0.22025, 0.221  ,\n",
       "       0.22075, 0.2205 , 0.21925, 0.22175, 0.21975, 0.22025, 0.22175,\n",
       "       0.2215 , 0.221  , 0.22   , 0.22075, 0.22175, 0.2215 ])"
      ]
     },
     "execution_count": 296,
     "metadata": {},
     "output_type": "execute_result"
    }
   ],
   "source": [
    "constraint_2 = np.zeros(20)\n",
    "for i in range(len(constraint_2)):\n",
    "   df = pd.read_csv(feat_files3[i])\n",
    "   constraint_2[i] = df[metric_columns].mean()[2]\n",
    "constraint_2"
   ]
  },
  {
   "cell_type": "code",
   "execution_count": 297,
   "metadata": {},
   "outputs": [
    {
     "data": {
      "text/plain": [
       "0.041624999999999995"
      ]
     },
     "execution_count": 297,
     "metadata": {},
     "output_type": "execute_result"
    }
   ],
   "source": [
    "score3 = mean[0]-constraint_2.mean()\n",
    "score3"
   ]
  },
  {
   "cell_type": "code",
   "execution_count": 298,
   "metadata": {},
   "outputs": [
    {
     "data": {
      "text/plain": [
       "0.0007725768570181116"
      ]
     },
     "execution_count": 298,
     "metadata": {},
     "output_type": "execute_result"
    }
   ],
   "source": [
    "std3 = constraint_2.std()\n",
    "std3"
   ]
  },
  {
   "cell_type": "code",
   "execution_count": 299,
   "metadata": {},
   "outputs": [
    {
     "data": {
      "text/plain": [
       "array([0.25675, 0.2585 , 0.257  , 0.25625, 0.2565 , 0.256  , 0.257  ,\n",
       "       0.25675, 0.257  , 0.25875, 0.25775, 0.26025, 0.2585 , 0.25525,\n",
       "       0.25675, 0.25675, 0.257  , 0.258  , 0.2565 , 0.25875])"
      ]
     },
     "execution_count": 299,
     "metadata": {},
     "output_type": "execute_result"
    }
   ],
   "source": [
    "constraint_3 = np.zeros(20)\n",
    "for i in range(len(constraint_3)):\n",
    "   df = pd.read_csv(feat_files4[i])\n",
    "   constraint_3[i] = df[metric_columns].mean()[2]\n",
    "constraint_3"
   ]
  },
  {
   "cell_type": "code",
   "execution_count": 300,
   "metadata": {},
   "outputs": [
    {
     "data": {
      "text/plain": [
       "0.00495000000000001"
      ]
     },
     "execution_count": 300,
     "metadata": {},
     "output_type": "execute_result"
    }
   ],
   "source": [
    "score4 = mean[0]-constraint_3.mean()\n",
    "score4"
   ]
  },
  {
   "cell_type": "code",
   "execution_count": 301,
   "metadata": {},
   "outputs": [
    {
     "data": {
      "text/plain": [
       "0.0011472793905583701"
      ]
     },
     "execution_count": 301,
     "metadata": {},
     "output_type": "execute_result"
    }
   ],
   "source": [
    "std4 = constraint_3.std()\n",
    "std4"
   ]
  },
  {
   "cell_type": "code",
   "execution_count": 302,
   "metadata": {},
   "outputs": [
    {
     "data": {
      "text/plain": [
       "array([0.25675, 0.25875, 0.25925, 0.2575 , 0.2555 , 0.256  , 0.25725,\n",
       "       0.25975, 0.25825, 0.25825, 0.25875, 0.2575 , 0.25725, 0.259  ,\n",
       "       0.256  , 0.258  , 0.25825, 0.25625, 0.25775, 0.255  ])"
      ]
     },
     "execution_count": 302,
     "metadata": {},
     "output_type": "execute_result"
    }
   ],
   "source": [
    "constraint_4 = np.zeros(20)\n",
    "for i in range(len(constraint_4)):\n",
    "   df = pd.read_csv(feat_files5[i])\n",
    "   constraint_4[i] = df[metric_columns].mean()[2]\n",
    "constraint_4"
   ]
  },
  {
   "cell_type": "code",
   "execution_count": 303,
   "metadata": {},
   "outputs": [
    {
     "data": {
      "text/plain": [
       "0.0047000000000000375"
      ]
     },
     "execution_count": 303,
     "metadata": {},
     "output_type": "execute_result"
    }
   ],
   "source": [
    "score5 = mean[0]-constraint_4.mean()\n",
    "score5"
   ]
  },
  {
   "cell_type": "code",
   "execution_count": 304,
   "metadata": {},
   "outputs": [
    {
     "data": {
      "text/plain": [
       "0.0012737739202856996"
      ]
     },
     "execution_count": 304,
     "metadata": {},
     "output_type": "execute_result"
    }
   ],
   "source": [
    "std5 = constraint_4.std()\n",
    "std5"
   ]
  },
  {
   "cell_type": "code",
   "execution_count": 305,
   "metadata": {},
   "outputs": [
    {
     "data": {
      "text/plain": [
       "array([0.2595 , 0.259  , 0.25975, 0.259  , 0.26   , 0.26175, 0.2575 ,\n",
       "       0.2605 , 0.26275, 0.2585 , 0.25975, 0.2595 , 0.259  , 0.26225,\n",
       "       0.26275, 0.261  , 0.2615 , 0.25875, 0.2605 , 0.2585 ])"
      ]
     },
     "execution_count": 305,
     "metadata": {},
     "output_type": "execute_result"
    }
   ],
   "source": [
    "constraint_5 = np.zeros(20)\n",
    "for i in range(len(constraint_5)):\n",
    "   df = pd.read_csv(feat_files6[i])\n",
    "   constraint_5[i] = df[metric_columns].mean()[2]\n",
    "constraint_5"
   ]
  },
  {
   "cell_type": "code",
   "execution_count": 306,
   "metadata": {},
   "outputs": [
    {
     "data": {
      "text/plain": [
       "0.0021625000000000116"
      ]
     },
     "execution_count": 306,
     "metadata": {},
     "output_type": "execute_result"
    }
   ],
   "source": [
    "score6 = mean[0]-constraint_5.mean()\n",
    "score6"
   ]
  },
  {
   "cell_type": "code",
   "execution_count": 307,
   "metadata": {},
   "outputs": [
    {
     "data": {
      "text/plain": [
       "0.0014626068337048016"
      ]
     },
     "execution_count": 307,
     "metadata": {},
     "output_type": "execute_result"
    }
   ],
   "source": [
    "std6 = constraint_5.std()\n",
    "std6"
   ]
  },
  {
   "cell_type": "code",
   "execution_count": 308,
   "metadata": {},
   "outputs": [
    {
     "data": {
      "text/plain": [
       "array([0.26225, 0.26225, 0.26225, 0.26225, 0.26225, 0.26225, 0.26225,\n",
       "       0.26225, 0.26225, 0.26225, 0.26225, 0.26225, 0.26225, 0.26225,\n",
       "       0.26225, 0.26225, 0.26225, 0.26225, 0.26225, 0.26225])"
      ]
     },
     "execution_count": 308,
     "metadata": {},
     "output_type": "execute_result"
    }
   ],
   "source": [
    "variable_1 = np.zeros(20)\n",
    "for i in range(len(variable_1)):\n",
    "   df = pd.read_csv(feat_files7[i])\n",
    "   variable_1[i] = df[metric_columns].mean()[2]\n",
    "variable_1"
   ]
  },
  {
   "cell_type": "code",
   "execution_count": 309,
   "metadata": {},
   "outputs": [
    {
     "data": {
      "text/plain": [
       "0.0"
      ]
     },
     "execution_count": 309,
     "metadata": {},
     "output_type": "execute_result"
    }
   ],
   "source": [
    "score7 = mean[0]-variable_1.mean()\n",
    "score7"
   ]
  },
  {
   "cell_type": "code",
   "execution_count": 310,
   "metadata": {},
   "outputs": [
    {
     "data": {
      "text/plain": [
       "0.0"
      ]
     },
     "execution_count": 310,
     "metadata": {},
     "output_type": "execute_result"
    }
   ],
   "source": [
    "std7 = variable_1.std()\n",
    "std7"
   ]
  },
  {
   "cell_type": "code",
   "execution_count": 317,
   "metadata": {},
   "outputs": [
    {
     "data": {
      "text/plain": [
       "array([0.26225, 0.26225, 0.26225, 0.26225, 0.26225, 0.26225, 0.26225,\n",
       "       0.26225, 0.26225, 0.26225, 0.26225, 0.26225, 0.26225, 0.26225,\n",
       "       0.26225, 0.26225, 0.26225, 0.26225, 0.26225, 0.26225])"
      ]
     },
     "execution_count": 317,
     "metadata": {},
     "output_type": "execute_result"
    }
   ],
   "source": [
    "variable_2 = np.zeros(20)\n",
    "for i in range(len(variable_2)):\n",
    "   df = pd.read_csv(feat_files8[i])\n",
    "   variable_2[i] = df[metric_columns].mean()[2]\n",
    "variable_2"
   ]
  },
  {
   "cell_type": "code",
   "execution_count": 318,
   "metadata": {},
   "outputs": [
    {
     "data": {
      "text/plain": [
       "0.0"
      ]
     },
     "execution_count": 318,
     "metadata": {},
     "output_type": "execute_result"
    }
   ],
   "source": [
    "score8 = mean[0]-variable_2.mean()\n",
    "score8"
   ]
  },
  {
   "cell_type": "code",
   "execution_count": 319,
   "metadata": {},
   "outputs": [
    {
     "data": {
      "text/plain": [
       "0.0"
      ]
     },
     "execution_count": 319,
     "metadata": {},
     "output_type": "execute_result"
    }
   ],
   "source": [
    "std8 = variable_2.std()\n",
    "std8"
   ]
  },
  {
   "cell_type": "code",
   "execution_count": 320,
   "metadata": {},
   "outputs": [
    {
     "data": {
      "text/plain": [
       "array([0.2795 , 0.2795 , 0.28175, 0.27925, 0.27575, 0.27825, 0.28025,\n",
       "       0.28075, 0.2825 , 0.2795 , 0.27625, 0.27975, 0.27625, 0.2775 ,\n",
       "       0.2775 , 0.27725, 0.27475, 0.28175, 0.27875, 0.28075])"
      ]
     },
     "execution_count": 320,
     "metadata": {},
     "output_type": "execute_result"
    }
   ],
   "source": [
    "variable_3 = np.zeros(20)\n",
    "for i in range(len(variable_3)):\n",
    "   df = pd.read_csv(feat_files9[i])\n",
    "   variable_3[i] = df[metric_columns].mean()[2]\n",
    "variable_3"
   ]
  },
  {
   "cell_type": "code",
   "execution_count": 321,
   "metadata": {},
   "outputs": [
    {
     "data": {
      "text/plain": [
       "-0.016625"
      ]
     },
     "execution_count": 321,
     "metadata": {},
     "output_type": "execute_result"
    }
   ],
   "source": [
    "score9 = mean[0]-variable_3.mean()\n",
    "score9"
   ]
  },
  {
   "cell_type": "code",
   "execution_count": 322,
   "metadata": {},
   "outputs": [
    {
     "data": {
      "text/plain": [
       "0.002098362456774343"
      ]
     },
     "execution_count": 322,
     "metadata": {},
     "output_type": "execute_result"
    }
   ],
   "source": [
    "std9 = variable_3.std()\n",
    "std9"
   ]
  },
  {
   "cell_type": "code",
   "execution_count": 323,
   "metadata": {},
   "outputs": [
    {
     "data": {
      "text/plain": [
       "array([0.2575 , 0.25925, 0.25975, 0.25775, 0.2605 , 0.25625, 0.258  ,\n",
       "       0.2585 , 0.25625, 0.25625, 0.2595 , 0.25475, 0.2565 , 0.2605 ,\n",
       "       0.259  , 0.25875, 0.25925, 0.25925, 0.25275, 0.25825])"
      ]
     },
     "execution_count": 323,
     "metadata": {},
     "output_type": "execute_result"
    }
   ],
   "source": [
    "variable_4 = np.zeros(20)\n",
    "for i in range(len(variable_4)):\n",
    "   df = pd.read_csv(feat_files10[i])\n",
    "   variable_4[i] = df[metric_columns].mean()[2]\n",
    "variable_4"
   ]
  },
  {
   "cell_type": "code",
   "execution_count": 324,
   "metadata": {},
   "outputs": [
    {
     "data": {
      "text/plain": [
       "0.004325000000000023"
      ]
     },
     "execution_count": 324,
     "metadata": {},
     "output_type": "execute_result"
    }
   ],
   "source": [
    "score10 = mean[0]-variable_4.mean()\n",
    "score10"
   ]
  },
  {
   "cell_type": "code",
   "execution_count": 325,
   "metadata": {},
   "outputs": [
    {
     "data": {
      "text/plain": [
       "0.001925324647949015"
      ]
     },
     "execution_count": 325,
     "metadata": {},
     "output_type": "execute_result"
    }
   ],
   "source": [
    "std10 = variable_4.std()\n",
    "std10"
   ]
  },
  {
   "cell_type": "code",
   "execution_count": 326,
   "metadata": {},
   "outputs": [
    {
     "data": {
      "text/plain": [
       "array([0.2585 , 0.25575, 0.25225, 0.25225, 0.25475, 0.259  , 0.252  ,\n",
       "       0.25525, 0.255  , 0.2555 , 0.25925, 0.26275, 0.2555 , 0.2615 ,\n",
       "       0.254  , 0.2585 , 0.25525, 0.26125, 0.25675, 0.251  ])"
      ]
     },
     "execution_count": 326,
     "metadata": {},
     "output_type": "execute_result"
    }
   ],
   "source": [
    "variable_5 = np.zeros(20)\n",
    "for i in range(len(variable_5)):\n",
    "   df = pd.read_csv(feat_files11[i])\n",
    "   variable_5[i] = df[metric_columns].mean()[2]\n",
    "variable_5"
   ]
  },
  {
   "cell_type": "code",
   "execution_count": 327,
   "metadata": {},
   "outputs": [
    {
     "data": {
      "text/plain": [
       "0.005949999999999955"
      ]
     },
     "execution_count": 327,
     "metadata": {},
     "output_type": "execute_result"
    }
   ],
   "source": [
    "score11 = mean[0]-variable_5.mean()\n",
    "score11"
   ]
  },
  {
   "cell_type": "code",
   "execution_count": 328,
   "metadata": {},
   "outputs": [
    {
     "data": {
      "text/plain": [
       "0.003252499039200464"
      ]
     },
     "execution_count": 328,
     "metadata": {},
     "output_type": "execute_result"
    }
   ],
   "source": [
    "std11 = variable_5.std()\n",
    "std11"
   ]
  },
  {
   "cell_type": "code",
   "execution_count": 329,
   "metadata": {},
   "outputs": [
    {
     "data": {
      "text/plain": [
       "array([0.32925, 0.33175, 0.32575, 0.323  , 0.32725, 0.32525, 0.3325 ,\n",
       "       0.328  , 0.33225, 0.327  , 0.33025, 0.3325 , 0.329  , 0.33   ,\n",
       "       0.33375, 0.32725, 0.3285 , 0.332  , 0.32425, 0.33275])"
      ]
     },
     "execution_count": 329,
     "metadata": {},
     "output_type": "execute_result"
    }
   ],
   "source": [
    "variable_6 = np.zeros(20)\n",
    "for i in range(len(variable_6)):\n",
    "   df = pd.read_csv(feat_files12[i])\n",
    "   variable_6[i] = df[metric_columns].mean()[2]\n",
    "variable_6"
   ]
  },
  {
   "cell_type": "code",
   "execution_count": 330,
   "metadata": {},
   "outputs": [
    {
     "data": {
      "text/plain": [
       "-0.06686250000000005"
      ]
     },
     "execution_count": 330,
     "metadata": {},
     "output_type": "execute_result"
    }
   ],
   "source": [
    "score12 = mean[0]-variable_6.mean()\n",
    "score12"
   ]
  },
  {
   "cell_type": "code",
   "execution_count": 331,
   "metadata": {},
   "outputs": [
    {
     "data": {
      "text/plain": [
       "0.0030428964408931104"
      ]
     },
     "execution_count": 331,
     "metadata": {},
     "output_type": "execute_result"
    }
   ],
   "source": [
    "std12 = variable_6.std()\n",
    "std12"
   ]
  },
  {
   "cell_type": "code",
   "execution_count": 332,
   "metadata": {},
   "outputs": [
    {
     "data": {
      "text/plain": [
       "array([0.3045 , 0.30775, 0.30575, 0.308  , 0.30325, 0.30725, 0.3025 ,\n",
       "       0.30725, 0.3035 , 0.306  , 0.3055 , 0.308  , 0.31025, 0.30875,\n",
       "       0.30325, 0.30175, 0.30875, 0.305  , 0.3045 , 0.3005 ])"
      ]
     },
     "execution_count": 332,
     "metadata": {},
     "output_type": "execute_result"
    }
   ],
   "source": [
    "variable_7 = np.zeros(20)\n",
    "for i in range(len(variable_7)):\n",
    "   df = pd.read_csv(feat_files13[i])\n",
    "   variable_7[i] = df[metric_columns].mean()[2]\n",
    "variable_7"
   ]
  },
  {
   "cell_type": "code",
   "execution_count": 333,
   "metadata": {},
   "outputs": [
    {
     "data": {
      "text/plain": [
       "-0.04335"
      ]
     },
     "execution_count": 333,
     "metadata": {},
     "output_type": "execute_result"
    }
   ],
   "source": [
    "score13 = mean[0]-variable_7.mean()\n",
    "score13"
   ]
  },
  {
   "cell_type": "code",
   "execution_count": 334,
   "metadata": {},
   "outputs": [
    {
     "data": {
      "text/plain": [
       "0.002568316569272563"
      ]
     },
     "execution_count": 334,
     "metadata": {},
     "output_type": "execute_result"
    }
   ],
   "source": [
    "std13 = variable_7.std()\n",
    "std13"
   ]
  },
  {
   "cell_type": "code",
   "execution_count": 335,
   "metadata": {},
   "outputs": [
    {
     "data": {
      "text/plain": [
       "array([0.296  , 0.29525, 0.29425, 0.29925, 0.297  , 0.29775, 0.2985 ,\n",
       "       0.298  , 0.2925 , 0.299  , 0.296  , 0.30275, 0.29425, 0.29475,\n",
       "       0.293  , 0.2975 , 0.2925 , 0.2985 , 0.2985 , 0.296  ])"
      ]
     },
     "execution_count": 335,
     "metadata": {},
     "output_type": "execute_result"
    }
   ],
   "source": [
    "variable_8 = np.zeros(20)\n",
    "for i in range(len(variable_8)):\n",
    "   df = pd.read_csv(feat_files14[i])\n",
    "   variable_8[i] = df[metric_columns].mean()[2]\n",
    "variable_8"
   ]
  },
  {
   "cell_type": "code",
   "execution_count": 336,
   "metadata": {},
   "outputs": [
    {
     "data": {
      "text/plain": [
       "-0.034312500000000024"
      ]
     },
     "execution_count": 336,
     "metadata": {},
     "output_type": "execute_result"
    }
   ],
   "source": [
    "score14 = mean[0]-variable_8.mean()\n",
    "score14"
   ]
  },
  {
   "cell_type": "code",
   "execution_count": 337,
   "metadata": {},
   "outputs": [
    {
     "data": {
      "text/plain": [
       "0.0025456764818020216"
      ]
     },
     "execution_count": 337,
     "metadata": {},
     "output_type": "execute_result"
    }
   ],
   "source": [
    "std14 = variable_8.std()\n",
    "std14"
   ]
  },
  {
   "cell_type": "code",
   "execution_count": 338,
   "metadata": {},
   "outputs": [
    {
     "data": {
      "text/plain": [
       "array([0.24325, 0.241  , 0.2395 , 0.23975, 0.242  , 0.24175, 0.2435 ,\n",
       "       0.24525, 0.244  , 0.23925, 0.24225, 0.241  , 0.249  , 0.24   ,\n",
       "       0.2395 , 0.23775, 0.2365 , 0.24825, 0.244  , 0.24625])"
      ]
     },
     "execution_count": 338,
     "metadata": {},
     "output_type": "execute_result"
    }
   ],
   "source": [
    "variable_9 = np.zeros(20)\n",
    "for i in range(len(variable_9)):\n",
    "   df = pd.read_csv(feat_files15[i])\n",
    "   variable_9[i] = df[metric_columns].mean()[2]\n",
    "variable_9"
   ]
  },
  {
   "cell_type": "code",
   "execution_count": 339,
   "metadata": {},
   "outputs": [
    {
     "data": {
      "text/plain": [
       "0.020062499999999983"
      ]
     },
     "execution_count": 339,
     "metadata": {},
     "output_type": "execute_result"
    }
   ],
   "source": [
    "score15 = mean[0]-variable_9.mean()\n",
    "score15"
   ]
  },
  {
   "cell_type": "code",
   "execution_count": 340,
   "metadata": {},
   "outputs": [
    {
     "data": {
      "text/plain": [
       "0.0032199330350179715"
      ]
     },
     "execution_count": 340,
     "metadata": {},
     "output_type": "execute_result"
    }
   ],
   "source": [
    "std15 = variable_9.std()\n",
    "std15"
   ]
  },
  {
   "cell_type": "code",
   "execution_count": 341,
   "metadata": {},
   "outputs": [
    {
     "data": {
      "text/plain": [
       "array([0.25225, 0.256  , 0.256  , 0.2565 , 0.25275, 0.25775, 0.25325,\n",
       "       0.25675, 0.25575, 0.2545 , 0.257  , 0.25675, 0.255  , 0.26275,\n",
       "       0.25625, 0.25275, 0.2565 , 0.25225, 0.262  , 0.2545 ])"
      ]
     },
     "execution_count": 341,
     "metadata": {},
     "output_type": "execute_result"
    }
   ],
   "source": [
    "variable_10 = np.zeros(20)\n",
    "for i in range(len(variable_10)):\n",
    "   df = pd.read_csv(feat_files16[i])\n",
    "   variable_10[i] = df[metric_columns].mean()[2]\n",
    "variable_10"
   ]
  },
  {
   "cell_type": "code",
   "execution_count": 342,
   "metadata": {},
   "outputs": [
    {
     "data": {
      "text/plain": [
       "0.006387499999999935"
      ]
     },
     "execution_count": 342,
     "metadata": {},
     "output_type": "execute_result"
    }
   ],
   "source": [
    "score16 = mean[0]-variable_10.mean()\n",
    "score16"
   ]
  },
  {
   "cell_type": "code",
   "execution_count": 343,
   "metadata": {},
   "outputs": [
    {
     "data": {
      "text/plain": [
       "0.0027323009991580445"
      ]
     },
     "execution_count": 343,
     "metadata": {},
     "output_type": "execute_result"
    }
   ],
   "source": [
    "std16 = variable_10.std()\n",
    "std16"
   ]
  },
  {
   "cell_type": "code",
   "execution_count": 344,
   "metadata": {},
   "outputs": [
    {
     "data": {
      "text/plain": [
       "array([0.25075, 0.251  , 0.25275, 0.24475, 0.25475, 0.2515 , 0.251  ,\n",
       "       0.25375, 0.254  , 0.25025, 0.25175, 0.25375, 0.252  , 0.25475,\n",
       "       0.24775, 0.2525 , 0.25025, 0.2485 , 0.25   , 0.25375])"
      ]
     },
     "execution_count": 344,
     "metadata": {},
     "output_type": "execute_result"
    }
   ],
   "source": [
    "variable_11 = np.zeros(20)\n",
    "for i in range(len(variable_11)):\n",
    "   df = pd.read_csv(feat_files17[i])\n",
    "   variable_11[i] = df[metric_columns].mean()[2]\n",
    "variable_11"
   ]
  },
  {
   "cell_type": "code",
   "execution_count": 346,
   "metadata": {},
   "outputs": [
    {
     "data": {
      "text/plain": [
       "0.010774999999999979"
      ]
     },
     "execution_count": 346,
     "metadata": {},
     "output_type": "execute_result"
    }
   ],
   "source": [
    "score17 = mean[0]-variable_11.mean()\n",
    "score17"
   ]
  },
  {
   "cell_type": "code",
   "execution_count": 347,
   "metadata": {},
   "outputs": [
    {
     "data": {
      "text/plain": [
       "0.002454460225793044"
      ]
     },
     "execution_count": 347,
     "metadata": {},
     "output_type": "execute_result"
    }
   ],
   "source": [
    "std17 = variable_11.std()\n",
    "std17"
   ]
  },
  {
   "cell_type": "code",
   "execution_count": 139,
   "metadata": {},
   "outputs": [
    {
     "data": {
      "text/plain": [
       "[0.004587500000000078,\n",
       " 0.0046999999999999265,\n",
       " 0.1627249999999998,\n",
       " 0.00946249999999993,\n",
       " 0.20643749999999983,\n",
       " 0.007825000000000082,\n",
       " 0.0,\n",
       " 0.027487499999999776,\n",
       " 0.04027499999999995,\n",
       " 0.0702124999999999,\n",
       " 0.3809125,\n",
       " 0.1027499999999999,\n",
       " 0.012924999999999853,\n",
       " 0.021312499999999956,\n",
       " 0.21042499999999997,\n",
       " -0.004550000000000054,\n",
       " 0.004212499999999841]"
      ]
     },
     "execution_count": 139,
     "metadata": {},
     "output_type": "execute_result"
    }
   ],
   "source": [
    "data_set = [score2,score3,score4,score5,score6,score1,score7,score8,score9,score10,score11,score12,score13,score14,score15,score16,score17]\n",
    "std_err_set=[std2,std3,std4,std5,std6,std1,std7,std8,std9,std10,std11,std12,std13,std14,std15,std16,std17]\n",
    "data_set"
   ]
  },
  {
   "cell_type": "code",
   "execution_count": 206,
   "metadata": {},
   "outputs": [
    {
     "data": {
      "text/plain": [
       "[0.028787499999999966,\n",
       " 0.01232499999999992,\n",
       " 0.00482500000000019,\n",
       " -0.002387499999999987,\n",
       " -2.5000000000052758e-05,\n",
       " 0.00286249999999999,\n",
       " 0.0,\n",
       " 0.020412499999999945,\n",
       " 0.11397500000000005,\n",
       " 0.06691249999999982,\n",
       " 0.3467125,\n",
       " 0.2654749999999999,\n",
       " 0.007150000000000101,\n",
       " 0.0180499999999999,\n",
       " 0.10373750000000004,\n",
       " -0.0043875000000001,\n",
       " -0.004850000000000021]"
      ]
     },
     "execution_count": 206,
     "metadata": {},
     "output_type": "execute_result"
    }
   ],
   "source": [
    "data_cau = [score2,score3,score4,score5,score6,score1,score7,score8,score9,score10,score11,score12,score13,score14,score15,score16,score17]\n",
    "std_err_cau=[std2,std3,std4,std5,std6,std1,std7,std8,std9,std10,std11,std12,std13,std14,std15,std16,std17]\n",
    "data_cau"
   ]
  },
  {
   "cell_type": "code",
   "execution_count": 274,
   "metadata": {},
   "outputs": [
    {
     "data": {
      "text/plain": [
       "[-0.005087500000000245,\n",
       " -0.006125000000000269,\n",
       " 0.0007249999999996426,\n",
       " 0.0003249999999997977,\n",
       " -7.500000000015827e-05,\n",
       " -0.0011750000000000371,\n",
       " 0.16547499999999982,\n",
       " -0.0010625000000001883,\n",
       " -0.0035875000000000767,\n",
       " -0.0006625000000001213,\n",
       " 0.1111249999999997,\n",
       " -0.006500000000000283,\n",
       " -0.0005375000000000796,\n",
       " -0.0016125000000002387,\n",
       " 0.0024125000000000396,\n",
       " -0.0012250000000001426,\n",
       " -0.00010000000000010001]"
      ]
     },
     "execution_count": 274,
     "metadata": {},
     "output_type": "execute_result"
    }
   ],
   "source": [
    "data_fac =[score2,score3,score4,score5,score6,score1,score7,score8,score9,score10,score11,score12,score13,score14,score15,score16,score17]\n",
    "std_err_fac=[std2,std3,std4,std5,std6,std1,std7,std8,std9,std10,std11,std12,std13,std14,std15,std16,std17]\n",
    "data_fac"
   ]
  },
  {
   "cell_type": "code",
   "execution_count": 350,
   "metadata": {},
   "outputs": [
    {
     "data": {
      "text/plain": [
       "[0.037325000000000025,\n",
       " 0.041624999999999995,\n",
       " 0.00495000000000001,\n",
       " 0.0047000000000000375,\n",
       " 0.0021625000000000116,\n",
       " -0.007212500000000011,\n",
       " 0.0,\n",
       " 0.0,\n",
       " -0.016625,\n",
       " 0.004325000000000023,\n",
       " 0.005949999999999955,\n",
       " -0.06686250000000005,\n",
       " -0.04335,\n",
       " -0.034312500000000024,\n",
       " 0.020062499999999983,\n",
       " 0.006387499999999935,\n",
       " 0.010774999999999979]"
      ]
     },
     "execution_count": 350,
     "metadata": {},
     "output_type": "execute_result"
    }
   ],
   "source": [
    "data_ind =[score2,score3,score4,score5,score6,score1,score7,score8,score9,score10,score11,score12,score13,score14,score15,score16,score17]\n",
    "std_err_ind=[std2,std3,std4,std5,std6,std1,std7,std8,std9,std10,std11,std12,std13,std14,std15,std16,std17]\n",
    "data_ind"
   ]
  },
  {
   "cell_type": "code",
   "execution_count": 351,
   "metadata": {},
   "outputs": [
    {
     "data": {
      "image/png": "[encoded data removed]",
      "text/plain": [
       "<Figure size 576x360 with 1 Axes>"
      ]
     },
     "metadata": {
      "needs_background": "light"
     },
     "output_type": "display_data"
    }
   ],
   "source": [
    "tick = (\"obj_cos_sim\",\"bias\",\"is_tight\",\"dualsol_val\",\"c_age\",\"e_coef\",\"type\",\"v_coef\",\"sol_is_at_lb\",\"sol_is_at_ub\",\"sol_frac\",\"basis_status\",\"reduced_cost\",\"v_age\",\"sol_val\",\"inc_val\",\"avg_inc_val\")\n",
    "plt.figure(figsize=(8,5))\n",
    "bar_width = 0.4\n",
    "plt.xlabel(\"Bigraph features\",fontsize=10)\n",
    "plt.ylabel(\"Variable importance by BPFI evaluation\",fontsize=10)\n",
    "error_params=dict(elinewidth=4,ecolor='coral',capsize=5)\n",
    "plt.plot(tick,data_set,linestyle='--',linewidth=1.8)\n",
    "plt.plot(tick,data_cau,linestyle='-.',linewidth=1.8)\n",
    "plt.plot(tick,data_ind,linestyle=':',linewidth=1.8)\n",
    "plt.plot(tick,data_fac,dashes=[6, 4],linewidth=1.8)\n",
    "#plt.tight_layout()\n",
    "plt.xticks(rotation=290)\n",
    "plt.tick_params(labelsize=10) \n",
    "plt.legend(['Set Covering', 'Combinatorial Auction','Maximum Independent Set','Capacitated Facility Location'])\n",
    "plt.savefig('score.pdf',bbox_inches = \"tight\")"
   ]
  }
 ],
 "metadata": {
  "interpreter": {
   "hash": "460d1e8ad1f65cd67cc2e10e182dc6d962fbacdc13e4644fd11070703448b767"
  },
  "kernelspec": {
   "display_name": "Python 3.8.10 64-bit ('learn2branch': conda)",
   "language": "python",
   "name": "python3"
  },
  "language_info": {
   "codemirror_mode": {
    "name": "ipython",
    "version": 3
   },
   "file_extension": ".py",
   "mimetype": "text/x-python",
   "name": "python",
   "nbconvert_exporter": "python",
   "pygments_lexer": "ipython3",
   "version": "3.8.10"
  },
  "orig_nbformat": 4
 },
 "nbformat": 4,
 "nbformat_minor": 2
}
