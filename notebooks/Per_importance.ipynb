{
 "cells": [
  {
   "cell_type": "code",
   "execution_count": 1,
   "metadata": {},
   "outputs": [],
   "source": [
    "import os\n",
    "os.chdir(\"../\")"
   ]
  },
  {
   "cell_type": "code",
   "execution_count": 2,
   "metadata": {},
   "outputs": [],
   "source": [
    "import pandas as pd\n",
    "import glob\n",
    "import time\n",
    "import numpy as np\n",
    "import matplotlib.pyplot as plt"
   ]
  },
  {
   "cell_type": "code",
   "execution_count": 37,
   "metadata": {},
   "outputs": [],
   "source": [
    "resultDir = 'D:\\Program Files\\dirary\\\\Next\\dgl\\\\BPFI-learn2branch\\\\results'\n",
    "problem = 'setcover' # choices=['setcover', 'cauctions', 'facilities', 'indset']\n",
    "# sampling_Strategies = ['uniform5','depthK','depthK2'] # choices: uniform5, depthK, depthK2, depthK3\n",
    "model = 'Full-GCNN'\n",
    "model1 = model[0]\n",
    "features = ['edge_0','constraint_0','constraint_1','constraint_2','constraint_3','constraint_4','variable_0','variable_1','variable_2','variable_3','variable_4','variable_5','variable_6','variable_7','variable_8','variable_9','variable_10','variable_11','variable_12']\n",
    "metric_columns = ['acc@1','acc@3','acc@5','acc@10']\n",
    "Lodi_files = glob.glob(f'{resultDir}\\{problem}\\{model1}*.csv')\n",
    "feat_files1 = glob.glob(f'{resultDir}\\{problem}\\BPFI-GCNN\\{features[0]}\\*.csv')\n",
    "feat_files2 = glob.glob(f'{resultDir}\\{problem}\\BPFI-GCNN\\{features[1]}\\*.csv')\n",
    "feat_files3 = glob.glob(f'{resultDir}\\{problem}\\BPFI-GCNN\\{features[2]}\\*.csv')\n",
    "feat_files4 = glob.glob(f'{resultDir}\\{problem}\\BPFI-GCNN\\{features[3]}\\*.csv')\n",
    "feat_files5 = glob.glob(f'{resultDir}\\{problem}\\BPFI-GCNN\\{features[4]}\\*.csv')\n",
    "feat_files6 = glob.glob(f'{resultDir}\\{problem}\\BPFI-GCNN\\{features[5]}\\*.csv')\n",
    "feat_files7 = glob.glob(f'{resultDir}\\{problem}\\BPFI-GCNN\\{features[6]}\\*.csv')\n",
    "feat_files8 = glob.glob(f'{resultDir}\\{problem}\\BPFI-GCNN\\{features[7]}\\*.csv')\n",
    "feat_files9 = glob.glob(f'{resultDir}\\{problem}\\BPFI-GCNN\\{features[8]}\\*.csv')\n",
    "feat_files10 = glob.glob(f'{resultDir}\\{problem}\\BPFI-GCNN\\{features[9]}\\*.csv')\n",
    "feat_files11 = glob.glob(f'{resultDir}\\{problem}\\BPFI-GCNN\\{features[10]}\\*.csv')\n",
    "feat_files12 = glob.glob(f'{resultDir}\\{problem}\\BPFI-GCNN\\{features[11]}\\*.csv')\n",
    "feat_files13 = glob.glob(f'{resultDir}\\{problem}\\BPFI-GCNN\\{features[12]}\\*.csv')\n",
    "feat_files14 = glob.glob(f'{resultDir}\\{problem}\\BPFI-GCNN\\{features[13]}\\*.csv')\n",
    "feat_files15 = glob.glob(f'{resultDir}\\{problem}\\BPFI-GCNN\\{features[14]}\\*.csv')\n",
    "feat_files16 = glob.glob(f'{resultDir}\\{problem}\\BPFI-GCNN\\{features[15]}\\*.csv')\n",
    "feat_files17 = glob.glob(f'{resultDir}\\{problem}\\BPFI-GCNN\\{features[16]}\\*.csv')\n",
    "feat_files18 = glob.glob(f'{resultDir}\\{problem}\\BPFI-GCNN\\{features[17]}\\*.csv')\n",
    "feat_files19 = glob.glob(f'{resultDir}\\{problem}\\BPFI-GCNN\\{features[18]}\\*.csv')\n",
    "mean = np.zeros(20)"
   ]
  },
  {
   "cell_type": "code",
   "execution_count": 38,
   "metadata": {},
   "outputs": [
    {
     "data": {
      "text/plain": [
       "0.8619999999999999"
      ]
     },
     "execution_count": 38,
     "metadata": {},
     "output_type": "execute_result"
    }
   ],
   "source": [
    "targetfile_Lodi = Lodi_files[0]\n",
    "target_df_Lodi = pd.read_csv(targetfile_Lodi)\n",
    "mean[0] = target_df_Lodi[metric_columns].mean()[2]\n",
    "mean[0]"
   ]
  },
  {
   "cell_type": "code",
   "execution_count": 39,
   "metadata": {},
   "outputs": [
    {
     "data": {
      "text/plain": [
       "array([0.852, 0.847, 0.853, 0.85 , 0.853, 0.851, 0.855, 0.846, 0.857,\n",
       "       0.851, 0.854, 0.843, 0.852, 0.851, 0.854, 0.85 , 0.852, 0.846,\n",
       "       0.859, 0.851])"
      ]
     },
     "execution_count": 39,
     "metadata": {},
     "output_type": "execute_result"
    }
   ],
   "source": [
    "edge = np.zeros(20)\n",
    "for i in range(len(edge)):\n",
    "   df = pd.read_csv(feat_files1[i])\n",
    "   edge[i] = df[metric_columns].mean()[2]\n",
    "edge"
   ]
  },
  {
   "cell_type": "code",
   "execution_count": 40,
   "metadata": {},
   "outputs": [
    {
     "data": {
      "text/plain": [
       "0.010649999999999826"
      ]
     },
     "execution_count": 40,
     "metadata": {},
     "output_type": "execute_result"
    }
   ],
   "source": [
    "score1 = mean[0]-edge.mean()\n",
    "score1"
   ]
  },
  {
   "cell_type": "code",
   "execution_count": 41,
   "metadata": {},
   "outputs": [
    {
     "data": {
      "text/plain": [
       "0.00370506410200956"
      ]
     },
     "execution_count": 41,
     "metadata": {},
     "output_type": "execute_result"
    }
   ],
   "source": [
    "std1 = edge.std()\n",
    "std1"
   ]
  },
  {
   "cell_type": "code",
   "execution_count": 42,
   "metadata": {},
   "outputs": [
    {
     "data": {
      "text/plain": [
       "array([0.858, 0.866, 0.866, 0.86 , 0.864, 0.855, 0.866, 0.863, 0.859,\n",
       "       0.862, 0.872, 0.856, 0.866, 0.873, 0.867, 0.86 , 0.861, 0.873,\n",
       "       0.866, 0.864])"
      ]
     },
     "execution_count": 42,
     "metadata": {},
     "output_type": "execute_result"
    }
   ],
   "source": [
    "constraint_1 = np.zeros(20)\n",
    "for i in range(len(constraint_1)):\n",
    "   df = pd.read_csv(feat_files2[i])\n",
    "   constraint_1[i] = df[metric_columns].mean()[2]\n",
    "constraint_1"
   ]
  },
  {
   "cell_type": "code",
   "execution_count": 43,
   "metadata": {},
   "outputs": [
    {
     "data": {
      "text/plain": [
       "-0.0018500000000001293"
      ]
     },
     "execution_count": 43,
     "metadata": {},
     "output_type": "execute_result"
    }
   ],
   "source": [
    "score2 = mean[0]-constraint_1.mean()\n",
    "score2"
   ]
  },
  {
   "cell_type": "code",
   "execution_count": 44,
   "metadata": {},
   "outputs": [
    {
     "data": {
      "text/plain": [
       "0.0050326434405787235"
      ]
     },
     "execution_count": 44,
     "metadata": {},
     "output_type": "execute_result"
    }
   ],
   "source": [
    "std2 = constraint_1.std()\n",
    "std2"
   ]
  },
  {
   "cell_type": "code",
   "execution_count": 45,
   "metadata": {},
   "outputs": [
    {
     "data": {
      "text/plain": [
       "array([0.865, 0.864, 0.864, 0.857, 0.854, 0.866, 0.863, 0.864, 0.861,\n",
       "       0.865, 0.868, 0.864, 0.859, 0.863, 0.863, 0.861, 0.864, 0.863,\n",
       "       0.863, 0.863])"
      ]
     },
     "execution_count": 45,
     "metadata": {},
     "output_type": "execute_result"
    }
   ],
   "source": [
    "constraint_2 = np.zeros(20)\n",
    "for i in range(len(constraint_2)):\n",
    "   df = pd.read_csv(feat_files3[i])\n",
    "   constraint_2[i] = df[metric_columns].mean()[2]\n",
    "constraint_2"
   ]
  },
  {
   "cell_type": "code",
   "execution_count": 46,
   "metadata": {},
   "outputs": [
    {
     "data": {
      "text/plain": [
       "-0.000700000000000145"
      ]
     },
     "execution_count": 46,
     "metadata": {},
     "output_type": "execute_result"
    }
   ],
   "source": [
    "score3 = mean[0]-constraint_2.mean()\n",
    "score3"
   ]
  },
  {
   "cell_type": "code",
   "execution_count": 47,
   "metadata": {},
   "outputs": [
    {
     "data": {
      "text/plain": [
       "0.003051229260478496"
      ]
     },
     "execution_count": 47,
     "metadata": {},
     "output_type": "execute_result"
    }
   ],
   "source": [
    "std3 = constraint_2.std()\n",
    "std3"
   ]
  },
  {
   "cell_type": "code",
   "execution_count": 48,
   "metadata": {},
   "outputs": [
    {
     "data": {
      "text/plain": [
       "array([0.686, 0.692, 0.683, 0.702, 0.697, 0.714, 0.685, 0.691, 0.707,\n",
       "       0.721, 0.695, 0.688, 0.698, 0.702, 0.686, 0.712, 0.706, 0.7  ,\n",
       "       0.692, 0.688])"
      ]
     },
     "execution_count": 48,
     "metadata": {},
     "output_type": "execute_result"
    }
   ],
   "source": [
    "constraint_3 = np.zeros(20)\n",
    "for i in range(len(constraint_3)):\n",
    "   df = pd.read_csv(feat_files4[i])\n",
    "   constraint_3[i] = df[metric_columns].mean()[2]\n",
    "constraint_3"
   ]
  },
  {
   "cell_type": "code",
   "execution_count": 49,
   "metadata": {},
   "outputs": [
    {
     "data": {
      "text/plain": [
       "0.16474999999999995"
      ]
     },
     "execution_count": 49,
     "metadata": {},
     "output_type": "execute_result"
    }
   ],
   "source": [
    "score4 = mean[0]-constraint_3.mean()\n",
    "score4"
   ]
  },
  {
   "cell_type": "code",
   "execution_count": 50,
   "metadata": {},
   "outputs": [
    {
     "data": {
      "text/plain": [
       "0.010401322031357362"
      ]
     },
     "execution_count": 50,
     "metadata": {},
     "output_type": "execute_result"
    }
   ],
   "source": [
    "std4 = constraint_3.std()\n",
    "std4"
   ]
  },
  {
   "cell_type": "code",
   "execution_count": 51,
   "metadata": {},
   "outputs": [
    {
     "data": {
      "text/plain": [
       "array([0.856, 0.857, 0.858, 0.863, 0.848, 0.85 , 0.861, 0.866, 0.849,\n",
       "       0.854, 0.851, 0.864, 0.859, 0.857, 0.859, 0.84 , 0.855, 0.858,\n",
       "       0.856, 0.851])"
      ]
     },
     "execution_count": 51,
     "metadata": {},
     "output_type": "execute_result"
    }
   ],
   "source": [
    "constraint_4 = np.zeros(20)\n",
    "for i in range(len(constraint_4)):\n",
    "   df = pd.read_csv(feat_files5[i])\n",
    "   constraint_4[i] = df[metric_columns].mean()[2]\n",
    "constraint_4"
   ]
  },
  {
   "cell_type": "code",
   "execution_count": 52,
   "metadata": {},
   "outputs": [
    {
     "data": {
      "text/plain": [
       "0.006399999999999739"
      ]
     },
     "execution_count": 52,
     "metadata": {},
     "output_type": "execute_result"
    }
   ],
   "source": [
    "score5 = mean[0]-constraint_4.mean()\n",
    "score5"
   ]
  },
  {
   "cell_type": "code",
   "execution_count": 53,
   "metadata": {},
   "outputs": [
    {
     "data": {
      "text/plain": [
       "0.006011655346075626"
      ]
     },
     "execution_count": 53,
     "metadata": {},
     "output_type": "execute_result"
    }
   ],
   "source": [
    "std5 = constraint_4.std()\n",
    "std5"
   ]
  },
  {
   "cell_type": "code",
   "execution_count": 54,
   "metadata": {},
   "outputs": [
    {
     "data": {
      "text/plain": [
       "array([0.648, 0.657, 0.633, 0.636, 0.634, 0.643, 0.634, 0.656, 0.646,\n",
       "       0.655, 0.63 , 0.64 , 0.639, 0.628, 0.633, 0.642, 0.65 , 0.647,\n",
       "       0.644, 0.65 ])"
      ]
     },
     "execution_count": 54,
     "metadata": {},
     "output_type": "execute_result"
    }
   ],
   "source": [
    "constraint_5 = np.zeros(20)\n",
    "for i in range(len(constraint_5)):\n",
    "   df = pd.read_csv(feat_files6[i])\n",
    "   constraint_5[i] = df[metric_columns].mean()[2]\n",
    "constraint_5"
   ]
  },
  {
   "cell_type": "code",
   "execution_count": 55,
   "metadata": {},
   "outputs": [
    {
     "data": {
      "text/plain": [
       "0.2197499999999999"
      ]
     },
     "execution_count": 55,
     "metadata": {},
     "output_type": "execute_result"
    }
   ],
   "source": [
    "score6 = mean[0]-constraint_5.mean()\n",
    "score6"
   ]
  },
  {
   "cell_type": "code",
   "execution_count": 56,
   "metadata": {},
   "outputs": [
    {
     "data": {
      "text/plain": [
       "0.008595783850237293"
      ]
     },
     "execution_count": 56,
     "metadata": {},
     "output_type": "execute_result"
    }
   ],
   "source": [
    "std6 = constraint_5.std()\n",
    "std6"
   ]
  },
  {
   "cell_type": "code",
   "execution_count": 57,
   "metadata": {},
   "outputs": [
    {
     "data": {
      "text/plain": [
       "array([0.862, 0.862, 0.862, 0.862, 0.862, 0.862, 0.862, 0.862, 0.862,\n",
       "       0.862, 0.862, 0.862, 0.862, 0.862, 0.862, 0.862, 0.862, 0.862,\n",
       "       0.862, 0.862])"
      ]
     },
     "execution_count": 57,
     "metadata": {},
     "output_type": "execute_result"
    }
   ],
   "source": [
    "variable_1 = np.zeros(20)\n",
    "for i in range(len(variable_1)):\n",
    "   df = pd.read_csv(feat_files7[i])\n",
    "   variable_1[i] = df[metric_columns].mean()[2]\n",
    "variable_1"
   ]
  },
  {
   "cell_type": "code",
   "execution_count": 58,
   "metadata": {},
   "outputs": [
    {
     "data": {
      "text/plain": [
       "1.1102230246251565e-16"
      ]
     },
     "execution_count": 58,
     "metadata": {},
     "output_type": "execute_result"
    }
   ],
   "source": [
    "score7 = mean[0]-variable_1.mean()\n",
    "score7"
   ]
  },
  {
   "cell_type": "code",
   "execution_count": 59,
   "metadata": {},
   "outputs": [
    {
     "data": {
      "text/plain": [
       "1.1102230246251565e-16"
      ]
     },
     "execution_count": 59,
     "metadata": {},
     "output_type": "execute_result"
    }
   ],
   "source": [
    "std7 = variable_1.std()\n",
    "std7"
   ]
  },
  {
   "cell_type": "code",
   "execution_count": 60,
   "metadata": {},
   "outputs": [
    {
     "data": {
      "text/plain": [
       "array([0.826, 0.818, 0.826, 0.818, 0.823, 0.827, 0.828, 0.818, 0.822,\n",
       "       0.814, 0.824, 0.818, 0.821, 0.821, 0.828, 0.825, 0.824, 0.817,\n",
       "       0.823, 0.814])"
      ]
     },
     "execution_count": 60,
     "metadata": {},
     "output_type": "execute_result"
    }
   ],
   "source": [
    "variable_2 = np.zeros(20)\n",
    "for i in range(len(variable_2)):\n",
    "   df = pd.read_csv(feat_files8[i])\n",
    "   variable_2[i] = df[metric_columns].mean()[2]\n",
    "variable_2"
   ]
  },
  {
   "cell_type": "code",
   "execution_count": 61,
   "metadata": {},
   "outputs": [
    {
     "data": {
      "text/plain": [
       "0.0402499999999999"
      ]
     },
     "execution_count": 61,
     "metadata": {},
     "output_type": "execute_result"
    }
   ],
   "source": [
    "score8 = mean[0]-variable_2.mean()\n",
    "score8"
   ]
  },
  {
   "cell_type": "code",
   "execution_count": 62,
   "metadata": {},
   "outputs": [
    {
     "data": {
      "text/plain": [
       "0.0042763886633466865"
      ]
     },
     "execution_count": 62,
     "metadata": {},
     "output_type": "execute_result"
    }
   ],
   "source": [
    "std8 = variable_2.std()\n",
    "std8"
   ]
  },
  {
   "cell_type": "code",
   "execution_count": 63,
   "metadata": {},
   "outputs": [
    {
     "data": {
      "text/plain": [
       "array([0.862, 0.862, 0.862, 0.862, 0.862, 0.862, 0.862, 0.862, 0.862,\n",
       "       0.862, 0.862, 0.862, 0.862, 0.862, 0.862, 0.862, 0.862, 0.862,\n",
       "       0.862, 0.862])"
      ]
     },
     "execution_count": 63,
     "metadata": {},
     "output_type": "execute_result"
    }
   ],
   "source": [
    "variable_3 = np.zeros(20)\n",
    "for i in range(len(variable_3)):\n",
    "   df = pd.read_csv(feat_files9[i])\n",
    "   variable_3[i] = df[metric_columns].mean()[2]\n",
    "variable_3"
   ]
  },
  {
   "cell_type": "code",
   "execution_count": 64,
   "metadata": {},
   "outputs": [
    {
     "data": {
      "text/plain": [
       "1.1102230246251565e-16"
      ]
     },
     "execution_count": 64,
     "metadata": {},
     "output_type": "execute_result"
    }
   ],
   "source": [
    "score9 = mean[0]-variable_3.mean()\n",
    "score9"
   ]
  },
  {
   "cell_type": "code",
   "execution_count": 65,
   "metadata": {},
   "outputs": [
    {
     "data": {
      "text/plain": [
       "1.1102230246251565e-16"
      ]
     },
     "execution_count": 65,
     "metadata": {},
     "output_type": "execute_result"
    }
   ],
   "source": [
    "std9 = variable_3.std()\n",
    "std9"
   ]
  },
  {
   "cell_type": "code",
   "execution_count": 66,
   "metadata": {},
   "outputs": [
    {
     "data": {
      "text/plain": [
       "array([0.862, 0.862, 0.862, 0.862, 0.862, 0.862, 0.862, 0.862, 0.862,\n",
       "       0.862, 0.862, 0.862, 0.862, 0.862, 0.862, 0.862, 0.862, 0.862,\n",
       "       0.862, 0.862])"
      ]
     },
     "execution_count": 66,
     "metadata": {},
     "output_type": "execute_result"
    }
   ],
   "source": [
    "variable_4 = np.zeros(20)\n",
    "for i in range(len(variable_4)):\n",
    "   df = pd.read_csv(feat_files10[i])\n",
    "   variable_4[i] = df[metric_columns].mean()[2]\n",
    "variable_4"
   ]
  },
  {
   "cell_type": "code",
   "execution_count": 67,
   "metadata": {},
   "outputs": [
    {
     "data": {
      "text/plain": [
       "1.1102230246251565e-16"
      ]
     },
     "execution_count": 67,
     "metadata": {},
     "output_type": "execute_result"
    }
   ],
   "source": [
    "score10 = mean[0]-variable_4.mean()\n",
    "score10"
   ]
  },
  {
   "cell_type": "code",
   "execution_count": 68,
   "metadata": {},
   "outputs": [
    {
     "data": {
      "text/plain": [
       "1.1102230246251565e-16"
      ]
     },
     "execution_count": 68,
     "metadata": {},
     "output_type": "execute_result"
    }
   ],
   "source": [
    "std10 = variable_4.std()\n",
    "std10"
   ]
  },
  {
   "cell_type": "code",
   "execution_count": 69,
   "metadata": {},
   "outputs": [
    {
     "data": {
      "text/plain": [
       "array([0.833, 0.833, 0.825, 0.84 , 0.834, 0.835, 0.832, 0.835, 0.837,\n",
       "       0.832, 0.836, 0.839, 0.831, 0.834, 0.831, 0.823, 0.829, 0.832,\n",
       "       0.848, 0.83 ])"
      ]
     },
     "execution_count": 69,
     "metadata": {},
     "output_type": "execute_result"
    }
   ],
   "source": [
    "variable_5 = np.zeros(20)\n",
    "for i in range(len(variable_5)):\n",
    "   df = pd.read_csv(feat_files11[i])\n",
    "   variable_5[i] = df[metric_columns].mean()[2]\n",
    "variable_5"
   ]
  },
  {
   "cell_type": "code",
   "execution_count": 70,
   "metadata": {},
   "outputs": [
    {
     "data": {
      "text/plain": [
       "0.02854999999999963"
      ]
     },
     "execution_count": 70,
     "metadata": {},
     "output_type": "execute_result"
    }
   ],
   "source": [
    "score11 = mean[0]-variable_5.mean()\n",
    "score11"
   ]
  },
  {
   "cell_type": "code",
   "execution_count": 71,
   "metadata": {},
   "outputs": [
    {
     "data": {
      "text/plain": [
       "0.005200721103847056"
      ]
     },
     "execution_count": 71,
     "metadata": {},
     "output_type": "execute_result"
    }
   ],
   "source": [
    "std11 = variable_5.std()\n",
    "std11"
   ]
  },
  {
   "cell_type": "code",
   "execution_count": 72,
   "metadata": {},
   "outputs": [
    {
     "data": {
      "text/plain": [
       "array([0.793, 0.791, 0.799, 0.804, 0.795, 0.8  , 0.793, 0.802, 0.797,\n",
       "       0.804, 0.796, 0.789, 0.799, 0.795, 0.793, 0.792, 0.799, 0.798,\n",
       "       0.793, 0.8  ])"
      ]
     },
     "execution_count": 72,
     "metadata": {},
     "output_type": "execute_result"
    }
   ],
   "source": [
    "variable_6 = np.zeros(20)\n",
    "for i in range(len(variable_6)):\n",
    "   df = pd.read_csv(feat_files12[i])\n",
    "   variable_6[i] = df[metric_columns].mean()[2]\n",
    "variable_6"
   ]
  },
  {
   "cell_type": "code",
   "execution_count": 73,
   "metadata": {},
   "outputs": [
    {
     "data": {
      "text/plain": [
       "0.0653999999999999"
      ]
     },
     "execution_count": 73,
     "metadata": {},
     "output_type": "execute_result"
    }
   ],
   "source": [
    "score12 = mean[0]-variable_6.mean()\n",
    "score12"
   ]
  },
  {
   "cell_type": "code",
   "execution_count": 74,
   "metadata": {},
   "outputs": [
    {
     "data": {
      "text/plain": [
       "0.004176122603564209"
      ]
     },
     "execution_count": 74,
     "metadata": {},
     "output_type": "execute_result"
    }
   ],
   "source": [
    "std12 = variable_6.std()\n",
    "std12"
   ]
  },
  {
   "cell_type": "code",
   "execution_count": 75,
   "metadata": {},
   "outputs": [
    {
     "data": {
      "text/plain": [
       "array([0.471, 0.483, 0.487, 0.482, 0.495, 0.477, 0.493, 0.496, 0.475,\n",
       "       0.471, 0.476, 0.496, 0.465, 0.469, 0.482, 0.482, 0.499, 0.482,\n",
       "       0.468, 0.469])"
      ]
     },
     "execution_count": 75,
     "metadata": {},
     "output_type": "execute_result"
    }
   ],
   "source": [
    "variable_7 = np.zeros(20)\n",
    "for i in range(len(variable_7)):\n",
    "   df = pd.read_csv(feat_files13[i])\n",
    "   variable_7[i] = df[metric_columns].mean()[2]\n",
    "variable_7"
   ]
  },
  {
   "cell_type": "code",
   "execution_count": 76,
   "metadata": {},
   "outputs": [
    {
     "data": {
      "text/plain": [
       "0.38109999999999994"
      ]
     },
     "execution_count": 76,
     "metadata": {},
     "output_type": "execute_result"
    }
   ],
   "source": [
    "score13 = mean[0]-variable_7.mean()\n",
    "score13"
   ]
  },
  {
   "cell_type": "code",
   "execution_count": 77,
   "metadata": {},
   "outputs": [
    {
     "data": {
      "text/plain": [
       "0.010362914647916383"
      ]
     },
     "execution_count": 77,
     "metadata": {},
     "output_type": "execute_result"
    }
   ],
   "source": [
    "std13 = variable_7.std()\n",
    "std13"
   ]
  },
  {
   "cell_type": "code",
   "execution_count": 78,
   "metadata": {},
   "outputs": [
    {
     "data": {
      "text/plain": [
       "array([0.774, 0.788, 0.788, 0.786, 0.784, 0.768, 0.792, 0.779, 0.782,\n",
       "       0.784, 0.782, 0.779, 0.78 , 0.778, 0.77 , 0.796, 0.781, 0.79 ,\n",
       "       0.774, 0.798])"
      ]
     },
     "execution_count": 78,
     "metadata": {},
     "output_type": "execute_result"
    }
   ],
   "source": [
    "variable_8 = np.zeros(20)\n",
    "for i in range(len(variable_8)):\n",
    "   df = pd.read_csv(feat_files14[i])\n",
    "   variable_8[i] = df[metric_columns].mean()[2]\n",
    "variable_8"
   ]
  },
  {
   "cell_type": "code",
   "execution_count": 79,
   "metadata": {},
   "outputs": [
    {
     "data": {
      "text/plain": [
       "0.0793499999999997"
      ]
     },
     "execution_count": 79,
     "metadata": {},
     "output_type": "execute_result"
    }
   ],
   "source": [
    "score14 = mean[0]-variable_8.mean()\n",
    "score14"
   ]
  },
  {
   "cell_type": "code",
   "execution_count": 80,
   "metadata": {},
   "outputs": [
    {
     "data": {
      "text/plain": [
       "0.007779942159168023"
      ]
     },
     "execution_count": 80,
     "metadata": {},
     "output_type": "execute_result"
    }
   ],
   "source": [
    "std14 = variable_8.std()\n",
    "std14"
   ]
  },
  {
   "cell_type": "code",
   "execution_count": 81,
   "metadata": {},
   "outputs": [
    {
     "data": {
      "text/plain": [
       "array([0.851, 0.856, 0.852, 0.855, 0.846, 0.851, 0.851, 0.853, 0.858,\n",
       "       0.86 , 0.853, 0.852, 0.856, 0.854, 0.858, 0.858, 0.855, 0.858,\n",
       "       0.858, 0.852])"
      ]
     },
     "execution_count": 81,
     "metadata": {},
     "output_type": "execute_result"
    }
   ],
   "source": [
    "variable_9 = np.zeros(20)\n",
    "for i in range(len(variable_9)):\n",
    "   df = pd.read_csv(feat_files15[i])\n",
    "   variable_9[i] = df[metric_columns].mean()[2]\n",
    "variable_9"
   ]
  },
  {
   "cell_type": "code",
   "execution_count": 82,
   "metadata": {},
   "outputs": [
    {
     "data": {
      "text/plain": [
       "0.007649999999999935"
      ]
     },
     "execution_count": 82,
     "metadata": {},
     "output_type": "execute_result"
    }
   ],
   "source": [
    "score15 = mean[0]-variable_9.mean()\n",
    "score15"
   ]
  },
  {
   "cell_type": "code",
   "execution_count": 83,
   "metadata": {},
   "outputs": [
    {
     "data": {
      "text/plain": [
       "0.003380458548777088"
      ]
     },
     "execution_count": 83,
     "metadata": {},
     "output_type": "execute_result"
    }
   ],
   "source": [
    "std15 = variable_9.std()\n",
    "std15"
   ]
  },
  {
   "cell_type": "code",
   "execution_count": 84,
   "metadata": {},
   "outputs": [
    {
     "data": {
      "text/plain": [
       "array([0.853, 0.854, 0.854, 0.855, 0.847, 0.85 , 0.848, 0.863, 0.852,\n",
       "       0.855, 0.853, 0.855, 0.858, 0.853, 0.861, 0.85 , 0.86 , 0.853,\n",
       "       0.856, 0.854])"
      ]
     },
     "execution_count": 84,
     "metadata": {},
     "output_type": "execute_result"
    }
   ],
   "source": [
    "variable_10 = np.zeros(20)\n",
    "for i in range(len(variable_10)):\n",
    "   df = pd.read_csv(feat_files16[i])\n",
    "   variable_10[i] = df[metric_columns].mean()[2]\n",
    "variable_10"
   ]
  },
  {
   "cell_type": "code",
   "execution_count": 85,
   "metadata": {},
   "outputs": [
    {
     "data": {
      "text/plain": [
       "0.007800000000000029"
      ]
     },
     "execution_count": 85,
     "metadata": {},
     "output_type": "execute_result"
    }
   ],
   "source": [
    "score16 = mean[0]-variable_10.mean()\n",
    "score16"
   ]
  },
  {
   "cell_type": "code",
   "execution_count": 86,
   "metadata": {},
   "outputs": [
    {
     "data": {
      "text/plain": [
       "0.003957271787481862"
      ]
     },
     "execution_count": 86,
     "metadata": {},
     "output_type": "execute_result"
    }
   ],
   "source": [
    "std16 = variable_10.std()\n",
    "std16"
   ]
  },
  {
   "cell_type": "code",
   "execution_count": 87,
   "metadata": {},
   "outputs": [
    {
     "data": {
      "text/plain": [
       "array([0.651, 0.644, 0.648, 0.655, 0.647, 0.648, 0.651, 0.648, 0.644,\n",
       "       0.636, 0.653, 0.654, 0.652, 0.626, 0.653, 0.639, 0.647, 0.643,\n",
       "       0.657, 0.648])"
      ]
     },
     "execution_count": 87,
     "metadata": {},
     "output_type": "execute_result"
    }
   ],
   "source": [
    "variable_11 = np.zeros(20)\n",
    "for i in range(len(variable_11)):\n",
    "   df = pd.read_csv(feat_files17[i])\n",
    "   variable_11[i] = df[metric_columns].mean()[2]\n",
    "variable_11"
   ]
  },
  {
   "cell_type": "code",
   "execution_count": 88,
   "metadata": {},
   "outputs": [
    {
     "data": {
      "text/plain": [
       "0.21479999999999988"
      ]
     },
     "execution_count": 88,
     "metadata": {},
     "output_type": "execute_result"
    }
   ],
   "source": [
    "score17 = mean[0]-variable_11.mean()\n",
    "score17"
   ]
  },
  {
   "cell_type": "code",
   "execution_count": 89,
   "metadata": {},
   "outputs": [
    {
     "data": {
      "text/plain": [
       "0.007089428749906446"
      ]
     },
     "execution_count": 89,
     "metadata": {},
     "output_type": "execute_result"
    }
   ],
   "source": [
    "std17 = variable_11.std()\n",
    "std17"
   ]
  },
  {
   "cell_type": "code",
   "execution_count": 90,
   "metadata": {},
   "outputs": [
    {
     "data": {
      "text/plain": [
       "array([0.869, 0.868, 0.867, 0.864, 0.869, 0.871, 0.866, 0.864, 0.87 ,\n",
       "       0.867, 0.871, 0.871, 0.863, 0.868, 0.869, 0.869, 0.87 , 0.868,\n",
       "       0.865, 0.869])"
      ]
     },
     "execution_count": 90,
     "metadata": {},
     "output_type": "execute_result"
    }
   ],
   "source": [
    "variable_12 = np.zeros(20)\n",
    "for i in range(len(variable_12)):\n",
    "   df = pd.read_csv(feat_files18[i])\n",
    "   variable_12[i] = df[metric_columns].mean()[2]\n",
    "variable_12"
   ]
  },
  {
   "cell_type": "code",
   "execution_count": 91,
   "metadata": {},
   "outputs": [
    {
     "data": {
      "text/plain": [
       "-0.005900000000000016"
      ]
     },
     "execution_count": 91,
     "metadata": {},
     "output_type": "execute_result"
    }
   ],
   "source": [
    "score18 = mean[0]-variable_12.mean()\n",
    "score18"
   ]
  },
  {
   "cell_type": "code",
   "execution_count": 92,
   "metadata": {},
   "outputs": [
    {
     "data": {
      "text/plain": [
       "0.0023643180835073775"
      ]
     },
     "execution_count": 92,
     "metadata": {},
     "output_type": "execute_result"
    }
   ],
   "source": [
    "std18 = variable_12.std()\n",
    "std18"
   ]
  },
  {
   "cell_type": "code",
   "execution_count": 93,
   "metadata": {},
   "outputs": [
    {
     "data": {
      "text/plain": [
       "array([0.879, 0.867, 0.872, 0.871, 0.868, 0.872, 0.87 , 0.872, 0.867,\n",
       "       0.871, 0.872, 0.865, 0.869, 0.871, 0.867, 0.867, 0.869, 0.869,\n",
       "       0.876, 0.874])"
      ]
     },
     "execution_count": 93,
     "metadata": {},
     "output_type": "execute_result"
    }
   ],
   "source": [
    "variable_13 = np.zeros(20)\n",
    "for i in range(len(variable_13)):\n",
    "   df = pd.read_csv(feat_files19[i])\n",
    "   variable_13[i] = df[metric_columns].mean()[2]\n",
    "variable_13"
   ]
  },
  {
   "cell_type": "code",
   "execution_count": 94,
   "metadata": {},
   "outputs": [
    {
     "data": {
      "text/plain": [
       "-0.008399999999999963"
      ]
     },
     "execution_count": 94,
     "metadata": {},
     "output_type": "execute_result"
    }
   ],
   "source": [
    "score19 = mean[0]-variable_13.mean()\n",
    "score19"
   ]
  },
  {
   "cell_type": "code",
   "execution_count": 95,
   "metadata": {},
   "outputs": [
    {
     "data": {
      "text/plain": [
       "0.0032924155266308586"
      ]
     },
     "execution_count": 95,
     "metadata": {},
     "output_type": "execute_result"
    }
   ],
   "source": [
    "std19 = variable_13.std()\n",
    "std19"
   ]
  },
  {
   "cell_type": "code",
   "execution_count": 96,
   "metadata": {},
   "outputs": [
    {
     "data": {
      "text/html": [
       "<div>\n",
       "<style scoped>\n",
       "    .dataframe tbody tr th:only-of-type {\n",
       "        vertical-align: middle;\n",
       "    }\n",
       "\n",
       "    .dataframe tbody tr th {\n",
       "        vertical-align: top;\n",
       "    }\n",
       "\n",
       "    .dataframe thead th {\n",
       "        text-align: right;\n",
       "    }\n",
       "</style>\n",
       "<table border=\"1\" class=\"dataframe\">\n",
       "  <thead>\n",
       "    <tr style=\"text-align: right;\">\n",
       "      <th></th>\n",
       "      <th>edge</th>\n",
       "      <th>CF1</th>\n",
       "      <th>CF2</th>\n",
       "      <th>CF3</th>\n",
       "      <th>CF4</th>\n",
       "      <th>CF5</th>\n",
       "      <th>VF1</th>\n",
       "      <th>VF2</th>\n",
       "      <th>VF3</th>\n",
       "      <th>VF4</th>\n",
       "      <th>VF5</th>\n",
       "      <th>VF6</th>\n",
       "      <th>VF7</th>\n",
       "      <th>VF8</th>\n",
       "      <th>VF9</th>\n",
       "      <th>VF10</th>\n",
       "      <th>VF11</th>\n",
       "      <th>VF12</th>\n",
       "      <th>VF13</th>\n",
       "    </tr>\n",
       "  </thead>\n",
       "  <tbody>\n",
       "    <tr>\n",
       "      <th>0</th>\n",
       "      <td>0.01065</td>\n",
       "      <td>-0.00185</td>\n",
       "      <td>-0.0007</td>\n",
       "      <td>0.16475</td>\n",
       "      <td>0.0064</td>\n",
       "      <td>0.21975</td>\n",
       "      <td>1.110223e-16</td>\n",
       "      <td>0.04025</td>\n",
       "      <td>1.110223e-16</td>\n",
       "      <td>1.110223e-16</td>\n",
       "      <td>0.02855</td>\n",
       "      <td>0.0654</td>\n",
       "      <td>0.3811</td>\n",
       "      <td>0.07935</td>\n",
       "      <td>0.00765</td>\n",
       "      <td>0.0078</td>\n",
       "      <td>0.2148</td>\n",
       "      <td>-0.0059</td>\n",
       "      <td>-0.0084</td>\n",
       "    </tr>\n",
       "  </tbody>\n",
       "</table>\n",
       "</div>"
      ],
      "text/plain": [
       "      edge      CF1     CF2      CF3     CF4      CF5           VF1      VF2  \\\n",
       "0  0.01065 -0.00185 -0.0007  0.16475  0.0064  0.21975  1.110223e-16  0.04025   \n",
       "\n",
       "            VF3           VF4      VF5     VF6     VF7      VF8      VF9  \\\n",
       "0  1.110223e-16  1.110223e-16  0.02855  0.0654  0.3811  0.07935  0.00765   \n",
       "\n",
       "     VF10    VF11    VF12    VF13  \n",
       "0  0.0078  0.2148 -0.0059 -0.0084  "
      ]
     },
     "execution_count": 96,
     "metadata": {},
     "output_type": "execute_result"
    }
   ],
   "source": [
    "data = {\n",
    "    'edge' :[score1],\n",
    "    'CF1' :[score2],\n",
    "    'CF2':[score3],\n",
    "    'CF3':[score4],\n",
    "    'CF4':[score5],\n",
    "    'CF5':[score6],\n",
    "    'VF1':[score7],\n",
    "    'VF2':[score8],\n",
    "    'VF3':[score9],\n",
    "    'VF4':[score10],\n",
    "    'VF5':[score11],\n",
    "    'VF6':[score12],\n",
    "    'VF7':[score13],\n",
    "    'VF8':[score14],\n",
    "    'VF9':[score15],\n",
    "    'VF10':[score16],\n",
    "    'VF11':[score17],\n",
    "    'VF12':[score18],\n",
    "    'VF13':[score19]\n",
    "}\n",
    "df= pd.DataFrame(data)\n",
    "df"
   ]
  },
  {
   "cell_type": "code",
   "execution_count": 423,
   "metadata": {},
   "outputs": [],
   "source": [
    "data_x = np.arange(17)\n",
    "data_y = [score1,score2,score3,score4,score5,score6,score17,score7,score8,score9,score10,score11,score12,score13,score14,score15,score16]\n",
    "std_err=[std1,std2,std3,std4,std5,std6,std17,std7,std8,std9,std10,std11,std12,std13,std14,std15,std16]\n",
    "tick = (\"edge\",\"CF1\",\"CF2\",\"CF3\",\"CF4\",\"CF5\",\"VF1\",\"VF2\",\"VF3\",\"VF4\",\"VF5\",\"VF6\",\"VF7\",\"VF8\",\"VF9\",\"VF10\",\"VF11\")\n",
    "# # df = pd.DataFrame(data)\n",
    "# df.index=[' ']\n",
    "# df"
   ]
  },
  {
   "cell_type": "code",
   "execution_count": 71,
   "metadata": {},
   "outputs": [
    {
     "data": {
      "text/plain": [
       "[0.007825000000000082,\n",
       " 0.004587500000000078,\n",
       " 0.0046999999999999265,\n",
       " 0.1627249999999998,\n",
       " 0.00946249999999993,\n",
       " 0.20643749999999983,\n",
       " 0.0,\n",
       " 0.027487499999999776,\n",
       " 0.04027499999999995,\n",
       " 0.0702124999999999,\n",
       " 0.3809125,\n",
       " 0.1027499999999999,\n",
       " 0.012924999999999853,\n",
       " 0.021312499999999956,\n",
       " 0.21042499999999997,\n",
       " -0.004550000000000054,\n",
       " 0.004212499999999841]"
      ]
     },
     "execution_count": 71,
     "metadata": {},
     "output_type": "execute_result"
    }
   ],
   "source": [
    "data_set = [score1,score2,score3,score4,score5,score6,score17,score7,score8,score9,score10,score11,score12,score13,score14,score15,score16]\n",
    "std_err_set=[std1,std2,std3,std4,std5,std6,std17,std7,std8,std9,std10,std11,std12,std13,std14,std15,std16]\n",
    "data_set"
   ]
  },
  {
   "cell_type": "code",
   "execution_count": 131,
   "metadata": {},
   "outputs": [
    {
     "data": {
      "text/plain": [
       "[0.00286249999999999,\n",
       " 0.028787499999999966,\n",
       " 0.01232499999999992,\n",
       " 0.00482500000000019,\n",
       " -0.002387499999999987,\n",
       " -2.5000000000052758e-05,\n",
       " 0.0,\n",
       " 0.020412499999999945,\n",
       " 0.11397500000000005,\n",
       " 0.06691249999999982,\n",
       " 0.3467125,\n",
       " 0.2654749999999999,\n",
       " 0.007150000000000101,\n",
       " 0.0180499999999999,\n",
       " 0.10373750000000004,\n",
       " -0.0043875000000001,\n",
       " -0.004850000000000021]"
      ]
     },
     "execution_count": 131,
     "metadata": {},
     "output_type": "execute_result"
    }
   ],
   "source": [
    "data_cau = [score1,score2,score3,score4,score5,score6,score17,score7,score8,score9,score10,score11,score12,score13,score14,score15,score16]\n",
    "std_err_cau=[std1,std2,std3,std4,std5,std6,std17,std7,std8,std9,std10,std11,std12,std13,std14,std15,std16]\n",
    "data_cau"
   ]
  },
  {
   "cell_type": "code",
   "execution_count": 188,
   "metadata": {},
   "outputs": [
    {
     "data": {
      "text/plain": [
       "[-0.0011750000000000371,\n",
       " -0.005087500000000245,\n",
       " -0.006125000000000269,\n",
       " 0.0007249999999996426,\n",
       " 0.0003249999999997977,\n",
       " -7.500000000015827e-05,\n",
       " 0.16547499999999982,\n",
       " -0.0010625000000001883,\n",
       " -0.0035875000000000767,\n",
       " -0.0006625000000001213,\n",
       " 0.1111249999999997,\n",
       " -0.006500000000000283,\n",
       " -0.0005375000000000796,\n",
       " -0.0016125000000002387,\n",
       " 0.0024125000000000396,\n",
       " -0.0012250000000001426,\n",
       " -0.00010000000000010001]"
      ]
     },
     "execution_count": 188,
     "metadata": {},
     "output_type": "execute_result"
    }
   ],
   "source": [
    "data_fac = [score1,score2,score3,score4,score5,score6,score17,score7,score8,score9,score10,score11,score12,score13,score14,score15,score16]\n",
    "std_err_fac=[std1,std2,std3,std4,std5,std6,std17,std7,std8,std9,std10,std11,std12,std13,std14,std15,std16]\n",
    "data_fac"
   ]
  },
  {
   "cell_type": "code",
   "execution_count": 144,
   "metadata": {},
   "outputs": [
    {
     "data": {
      "text/plain": [
       "[-0.004950000000000121,\n",
       " 0.0007999999999999674,\n",
       " 0.025199999999999945,\n",
       " 0.023249999999999882,\n",
       " 0.043899999999999884,\n",
       " 0.01699999999999996,\n",
       " -0.012450000000000017,\n",
       " 0.0,\n",
       " 0.0,\n",
       " 0.0,\n",
       " 0.0,\n",
       " 0.005549999999999999,\n",
       " 0.01459999999999989,\n",
       " 0.06484999999999991,\n",
       " -0.08939999999999998,\n",
       " -0.034750000000000114,\n",
       " -0.04914999999999997]"
      ]
     },
     "execution_count": 144,
     "metadata": {},
     "output_type": "execute_result"
    }
   ],
   "source": [
    "data_ind = [score1,score2,score3,score4,score5,score6,score17,score7,score8,score9,score10,score11,score12,score13,score14,score15,score16]\n",
    "std_err_ind=[std1,std2,std3,std4,std5,std6,std17,std7,std8,std9,std10,std11,std12,std13,std14,std15,std16]\n",
    "data_ind"
   ]
  },
  {
   "cell_type": "code",
   "execution_count": 148,
   "metadata": {},
   "outputs": [
    {
     "data": {
      "image/png": "[encoded data removed]",
      "text/plain": [
       "<Figure size 576x360 with 1 Axes>"
      ]
     },
     "metadata": {
      "needs_background": "light"
     },
     "output_type": "display_data"
    }
   ],
   "source": [
    "tick = (\"CF1\",\"CF2\",\"CF3\",\"CF4\",\"CF5\",\"edge\",\"VF1\",\"VF2\",\"VF3\",\"VF4\",\"VF5\",\"VF6\",\"VF7\",\"VF8\",\"VF9\",\"VF10\",\"VF11\")\n",
    "plt.figure(figsize=(8,5))\n",
    "bar_width = 0.4\n",
    "plt.xlabel(\"Bigraph features\",fontsize=10)\n",
    "plt.ylabel(\"BPFI scores on acc@5 accuracy\",fontsize=10)\n",
    "error_params=dict(elinewidth=4,ecolor='coral',capsize=5)\n",
    "plt.plot(tick,data_set,linestyle='--',linewidth=1.8)\n",
    "plt.plot(tick,data_cau,linestyle='-.',linewidth=1.8)\n",
    "plt.plot(tick,data_ind,linestyle=':',linewidth=1.8)\n",
    "plt.plot(tick,data_fac,dashes=[6, 4],linewidth=1.8)\n",
    "plt.tight_layout()\n",
    "plt.xticks(rotation=290)\n",
    "plt.tick_params(labelsize=10) \n",
    "plt.legend(['Set Covering', 'Combinatorial Auction','Maximum Independent Set','Capacitated Facility Location'])\n",
    "plt.legend(['Maximum Independent Set'])\n",
    "plt.savefig('score.pdf',bbox_inches = \"tight\")"
   ]
  }
 ],
 "metadata": {
  "interpreter": {
   "hash": "460d1e8ad1f65cd67cc2e10e182dc6d962fbacdc13e4644fd11070703448b767"
  },
  "kernelspec": {
   "display_name": "Python 3.8.10 64-bit ('learn2branch': conda)",
   "language": "python",
   "name": "python3"
  },
  "language_info": {
   "codemirror_mode": {
    "name": "ipython",
    "version": 3
   },
   "file_extension": ".py",
   "mimetype": "text/x-python",
   "name": "python",
   "nbconvert_exporter": "python",
   "pygments_lexer": "ipython3",
   "version": "3.8.10"
  },
  "orig_nbformat": 4
 },
 "nbformat": 4,
 "nbformat_minor": 2
}
