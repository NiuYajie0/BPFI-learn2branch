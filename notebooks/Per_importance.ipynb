{
 "cells": [
  {
   "cell_type": "code",
   "execution_count": 158,
   "metadata": {},
   "outputs": [],
   "source": [
    "import os\n",
    "os.chdir(\"../\")"
   ]
  },
  {
   "cell_type": "code",
   "execution_count": 159,
   "metadata": {},
   "outputs": [],
   "source": [
    "import pandas as pd\n",
    "import glob\n",
    "import time\n",
    "import numpy as np\n",
    "import matplotlib.pyplot as plt"
   ]
  },
  {
   "cell_type": "code",
   "execution_count": 164,
   "metadata": {},
   "outputs": [],
   "source": [
    "resultDir = 'D:\\Program Files\\dirary\\\\two\\\\review\\learn2brancher\\\\results'\n",
    "problem = 'indset' # choices=['setcover', 'cauctions', 'facilities', 'indset']\n",
    "# sampling_Strategies = ['uniform5','depthK','depthK2'] # choices: uniform5, depthK, depthK2, depthK3\n",
    "model = ['Lodi','GraphConv']\n",
    "model1 = model[0]\n",
    "features = ['edge_0','constraint_0','constraint_1','constraint_2','constraint_3','constraint_4','variable_0','variable_1','variable_2','variable_3','variable_4','variable_5','variable_6','variable_7','variable_8','variable_9','variable_10','variable_11','variable_12']\n",
    "metric_columns = ['acc@1','acc@3','acc@5','acc@10']\n",
    "Lodi_files = glob.glob(f'{resultDir}\\{problem}\\{model1}*.csv')\n",
    "feat_files1 = glob.glob(f'{resultDir}\\{problem}\\BPFI-GCNN\\{features[0]}\\*.csv')\n",
    "feat_files2 = glob.glob(f'{resultDir}\\{problem}\\BPFI-GCNN\\{features[1]}\\*.csv')\n",
    "feat_files3 = glob.glob(f'{resultDir}\\{problem}\\BPFI-GCNN\\{features[2]}\\*.csv')\n",
    "feat_files4 = glob.glob(f'{resultDir}\\{problem}\\BPFI-GCNN\\{features[3]}\\*.csv')\n",
    "feat_files5 = glob.glob(f'{resultDir}\\{problem}\\BPFI-GCNN\\{features[4]}\\*.csv')\n",
    "feat_files6 = glob.glob(f'{resultDir}\\{problem}\\BPFI-GCNN\\{features[5]}\\*.csv')\n",
    "feat_files7 = glob.glob(f'{resultDir}\\{problem}\\BPFI-GCNN\\{features[6]}\\*.csv')\n",
    "feat_files8 = glob.glob(f'{resultDir}\\{problem}\\BPFI-GCNN\\{features[7]}\\*.csv')\n",
    "feat_files9 = glob.glob(f'{resultDir}\\{problem}\\BPFI-GCNN\\{features[8]}\\*.csv')\n",
    "feat_files10 = glob.glob(f'{resultDir}\\{problem}\\BPFI-GCNN\\{features[9]}\\*.csv')\n",
    "feat_files11 = glob.glob(f'{resultDir}\\{problem}\\BPFI-GCNN\\{features[10]}\\*.csv')\n",
    "feat_files12 = glob.glob(f'{resultDir}\\{problem}\\BPFI-GCNN\\{features[11]}\\*.csv')\n",
    "feat_files13 = glob.glob(f'{resultDir}\\{problem}\\BPFI-GCNN\\{features[12]}\\*.csv')\n",
    "feat_files14 = glob.glob(f'{resultDir}\\{problem}\\BPFI-GCNN\\{features[13]}\\*.csv')\n",
    "feat_files15 = glob.glob(f'{resultDir}\\{problem}\\BPFI-GCNN\\{features[14]}\\*.csv')\n",
    "feat_files16 = glob.glob(f'{resultDir}\\{problem}\\BPFI-GCNN\\{features[15]}\\*.csv')\n",
    "feat_files17 = glob.glob(f'{resultDir}\\{problem}\\BPFI-GCNN\\{features[16]}\\*.csv')\n",
    "feat_files18 = glob.glob(f'{resultDir}\\{problem}\\BPFI-GCNN\\{features[17]}\\*.csv')\n",
    "feat_files19 = glob.glob(f'{resultDir}\\{problem}\\BPFI-GCNN\\{features[18]}\\*.csv')\n",
    "mean = np.zeros(20)"
   ]
  },
  {
   "cell_type": "code",
   "execution_count": 165,
   "metadata": {},
   "outputs": [
    {
     "data": {
      "text/plain": [
       "0.4579999999999999"
      ]
     },
     "execution_count": 165,
     "metadata": {},
     "output_type": "execute_result"
    }
   ],
   "source": [
    "targetfile_Lodi = Lodi_files[0]\n",
    "target_df_Lodi = pd.read_csv(targetfile_Lodi)\n",
    "mean[0] = target_df_Lodi[metric_columns].mean()[2]\n",
    "mean[0]"
   ]
  },
  {
   "cell_type": "code",
   "execution_count": 166,
   "metadata": {},
   "outputs": [
    {
     "data": {
      "text/plain": [
       "array([0.201, 0.198, 0.202, 0.196, 0.201, 0.198, 0.194, 0.201, 0.201,\n",
       "       0.207, 0.196, 0.202, 0.192, 0.201, 0.197, 0.199, 0.2  , 0.204,\n",
       "       0.198, 0.197])"
      ]
     },
     "execution_count": 166,
     "metadata": {},
     "output_type": "execute_result"
    }
   ],
   "source": [
    "edge = np.zeros(20)\n",
    "for i in range(len(edge)):\n",
    "   df = pd.read_csv(feat_files1[i])\n",
    "   edge[i] = df[metric_columns].mean()[2]\n",
    "edge"
   ]
  },
  {
   "cell_type": "code",
   "execution_count": 167,
   "metadata": {},
   "outputs": [
    {
     "data": {
      "text/plain": [
       "0.2587499999999999"
      ]
     },
     "execution_count": 167,
     "metadata": {},
     "output_type": "execute_result"
    }
   ],
   "source": [
    "score1 = mean[0]-edge.mean()\n",
    "score1"
   ]
  },
  {
   "cell_type": "code",
   "execution_count": 168,
   "metadata": {},
   "outputs": [
    {
     "data": {
      "text/plain": [
       "0.0033893214660164583"
      ]
     },
     "execution_count": 168,
     "metadata": {},
     "output_type": "execute_result"
    }
   ],
   "source": [
    "std1 = edge.std()\n",
    "std1"
   ]
  },
  {
   "cell_type": "code",
   "execution_count": 169,
   "metadata": {},
   "outputs": [
    {
     "data": {
      "text/plain": [
       "array([0.206, 0.206, 0.209, 0.209, 0.209, 0.212, 0.207, 0.211, 0.206,\n",
       "       0.208, 0.21 , 0.209, 0.208, 0.208, 0.209, 0.207, 0.205, 0.21 ,\n",
       "       0.211, 0.207])"
      ]
     },
     "execution_count": 169,
     "metadata": {},
     "output_type": "execute_result"
    }
   ],
   "source": [
    "constraint_1 = np.zeros(20)\n",
    "for i in range(len(constraint_1)):\n",
    "   df = pd.read_csv(feat_files2[i])\n",
    "   constraint_1[i] = df[metric_columns].mean()[2]\n",
    "constraint_1"
   ]
  },
  {
   "cell_type": "code",
   "execution_count": 170,
   "metadata": {},
   "outputs": [
    {
     "data": {
      "text/plain": [
       "0.24964999999999987"
      ]
     },
     "execution_count": 170,
     "metadata": {},
     "output_type": "execute_result"
    }
   ],
   "source": [
    "score2 = mean[0]-constraint_1.mean()\n",
    "score2"
   ]
  },
  {
   "cell_type": "code",
   "execution_count": 171,
   "metadata": {},
   "outputs": [
    {
     "data": {
      "text/plain": [
       "0.0018513508581573608"
      ]
     },
     "execution_count": 171,
     "metadata": {},
     "output_type": "execute_result"
    }
   ],
   "source": [
    "std2 = constraint_1.std()\n",
    "std2"
   ]
  },
  {
   "cell_type": "code",
   "execution_count": 172,
   "metadata": {},
   "outputs": [
    {
     "data": {
      "text/plain": [
       "array([0.222, 0.221, 0.222, 0.223, 0.221, 0.222, 0.222, 0.221, 0.222,\n",
       "       0.225, 0.218, 0.223, 0.222, 0.223, 0.222, 0.224, 0.22 , 0.223,\n",
       "       0.223, 0.222])"
      ]
     },
     "execution_count": 172,
     "metadata": {},
     "output_type": "execute_result"
    }
   ],
   "source": [
    "constraint_2 = np.zeros(20)\n",
    "for i in range(len(constraint_2)):\n",
    "   df = pd.read_csv(feat_files3[i])\n",
    "   constraint_2[i] = df[metric_columns].mean()[2]\n",
    "constraint_2"
   ]
  },
  {
   "cell_type": "code",
   "execution_count": 173,
   "metadata": {},
   "outputs": [
    {
     "data": {
      "text/plain": [
       "0.23594999999999988"
      ]
     },
     "execution_count": 173,
     "metadata": {},
     "output_type": "execute_result"
    }
   ],
   "source": [
    "score3 = mean[0]-constraint_2.mean()\n",
    "score3"
   ]
  },
  {
   "cell_type": "code",
   "execution_count": 174,
   "metadata": {},
   "outputs": [
    {
     "data": {
      "text/plain": [
       "0.0014309088021254124"
      ]
     },
     "execution_count": 174,
     "metadata": {},
     "output_type": "execute_result"
    }
   ],
   "source": [
    "std3 = constraint_2.std()\n",
    "std3"
   ]
  },
  {
   "cell_type": "code",
   "execution_count": 175,
   "metadata": {},
   "outputs": [
    {
     "data": {
      "text/plain": [
       "array([0.169, 0.177, 0.177, 0.174, 0.179, 0.173, 0.172, 0.178, 0.175,\n",
       "       0.173, 0.175, 0.179, 0.177, 0.174, 0.178, 0.18 , 0.176, 0.179,\n",
       "       0.178, 0.174])"
      ]
     },
     "execution_count": 175,
     "metadata": {},
     "output_type": "execute_result"
    }
   ],
   "source": [
    "constraint_3 = np.zeros(20)\n",
    "for i in range(len(constraint_3)):\n",
    "   df = pd.read_csv(feat_files4[i])\n",
    "   constraint_3[i] = df[metric_columns].mean()[2]\n",
    "constraint_3"
   ]
  },
  {
   "cell_type": "code",
   "execution_count": 176,
   "metadata": {},
   "outputs": [
    {
     "data": {
      "text/plain": [
       "0.2821499999999999"
      ]
     },
     "execution_count": 176,
     "metadata": {},
     "output_type": "execute_result"
    }
   ],
   "source": [
    "score4 = mean[0]-constraint_3.mean()\n",
    "score4"
   ]
  },
  {
   "cell_type": "code",
   "execution_count": 177,
   "metadata": {},
   "outputs": [
    {
     "data": {
      "text/plain": [
       "0.0027798381247835266"
      ]
     },
     "execution_count": 177,
     "metadata": {},
     "output_type": "execute_result"
    }
   ],
   "source": [
    "std4 = constraint_3.std()\n",
    "std4"
   ]
  },
  {
   "cell_type": "code",
   "execution_count": 178,
   "metadata": {},
   "outputs": [
    {
     "data": {
      "text/plain": [
       "array([0.184, 0.187, 0.185, 0.184, 0.186, 0.19 , 0.183, 0.186, 0.185,\n",
       "       0.184, 0.186, 0.181, 0.184, 0.184, 0.186, 0.184, 0.183, 0.186,\n",
       "       0.186, 0.186])"
      ]
     },
     "execution_count": 178,
     "metadata": {},
     "output_type": "execute_result"
    }
   ],
   "source": [
    "constraint_4 = np.zeros(20)\n",
    "for i in range(len(constraint_4)):\n",
    "   df = pd.read_csv(feat_files5[i])\n",
    "   constraint_4[i] = df[metric_columns].mean()[2]\n",
    "constraint_4"
   ]
  },
  {
   "cell_type": "code",
   "execution_count": 179,
   "metadata": {},
   "outputs": [
    {
     "data": {
      "text/plain": [
       "0.2729999999999999"
      ]
     },
     "execution_count": 179,
     "metadata": {},
     "output_type": "execute_result"
    }
   ],
   "source": [
    "score5 = mean[0]-constraint_4.mean()\n",
    "score5"
   ]
  },
  {
   "cell_type": "code",
   "execution_count": 180,
   "metadata": {},
   "outputs": [
    {
     "data": {
      "text/plain": [
       "0.0018165902124584964"
      ]
     },
     "execution_count": 180,
     "metadata": {},
     "output_type": "execute_result"
    }
   ],
   "source": [
    "std5 = constraint_4.std()\n",
    "std5"
   ]
  },
  {
   "cell_type": "code",
   "execution_count": 181,
   "metadata": {},
   "outputs": [
    {
     "data": {
      "text/plain": [
       "array([0.184, 0.182, 0.179, 0.185, 0.178, 0.184, 0.18 , 0.182, 0.185,\n",
       "       0.179, 0.18 , 0.186, 0.183, 0.182, 0.182, 0.178, 0.178, 0.182,\n",
       "       0.183, 0.184])"
      ]
     },
     "execution_count": 181,
     "metadata": {},
     "output_type": "execute_result"
    }
   ],
   "source": [
    "constraint_5 = np.zeros(20)\n",
    "for i in range(len(constraint_5)):\n",
    "   df = pd.read_csv(feat_files6[i])\n",
    "   constraint_5[i] = df[metric_columns].mean()[2]\n",
    "constraint_5"
   ]
  },
  {
   "cell_type": "code",
   "execution_count": 182,
   "metadata": {},
   "outputs": [
    {
     "data": {
      "text/plain": [
       "0.2761999999999999"
      ]
     },
     "execution_count": 182,
     "metadata": {},
     "output_type": "execute_result"
    }
   ],
   "source": [
    "score6 = mean[0]-constraint_5.mean()\n",
    "score6"
   ]
  },
  {
   "cell_type": "code",
   "execution_count": 183,
   "metadata": {},
   "outputs": [
    {
     "data": {
      "text/plain": [
       "0.002461706725018236"
      ]
     },
     "execution_count": 183,
     "metadata": {},
     "output_type": "execute_result"
    }
   ],
   "source": [
    "std6 = constraint_5.std()\n",
    "std6"
   ]
  },
  {
   "cell_type": "code",
   "execution_count": 184,
   "metadata": {},
   "outputs": [
    {
     "data": {
      "text/plain": [
       "array([0.181, 0.181, 0.181, 0.181, 0.181, 0.181, 0.181, 0.181, 0.181,\n",
       "       0.181, 0.181, 0.181, 0.181, 0.181, 0.181, 0.181, 0.181, 0.181,\n",
       "       0.181, 0.181])"
      ]
     },
     "execution_count": 184,
     "metadata": {},
     "output_type": "execute_result"
    }
   ],
   "source": [
    "variable_1 = np.zeros(20)\n",
    "for i in range(len(variable_1)):\n",
    "   df = pd.read_csv(feat_files7[i])\n",
    "   variable_1[i] = df[metric_columns].mean()[2]\n",
    "variable_1"
   ]
  },
  {
   "cell_type": "code",
   "execution_count": 185,
   "metadata": {},
   "outputs": [
    {
     "data": {
      "text/plain": [
       "0.2769999999999999"
      ]
     },
     "execution_count": 185,
     "metadata": {},
     "output_type": "execute_result"
    }
   ],
   "source": [
    "score7 = mean[0]-variable_1.mean()\n",
    "score7"
   ]
  },
  {
   "cell_type": "code",
   "execution_count": 186,
   "metadata": {},
   "outputs": [
    {
     "data": {
      "text/plain": [
       "0.0"
      ]
     },
     "execution_count": 186,
     "metadata": {},
     "output_type": "execute_result"
    }
   ],
   "source": [
    "std7 = variable_1.std()\n",
    "std7"
   ]
  },
  {
   "cell_type": "code",
   "execution_count": 187,
   "metadata": {},
   "outputs": [
    {
     "data": {
      "text/plain": [
       "array([0.181, 0.181, 0.181, 0.181, 0.181, 0.181, 0.181, 0.181, 0.181,\n",
       "       0.181, 0.181, 0.181, 0.181, 0.181, 0.181, 0.181, 0.181, 0.181,\n",
       "       0.181, 0.181])"
      ]
     },
     "execution_count": 187,
     "metadata": {},
     "output_type": "execute_result"
    }
   ],
   "source": [
    "variable_2 = np.zeros(20)\n",
    "for i in range(len(variable_2)):\n",
    "   df = pd.read_csv(feat_files8[i])\n",
    "   variable_2[i] = df[metric_columns].mean()[2]\n",
    "variable_2"
   ]
  },
  {
   "cell_type": "code",
   "execution_count": 188,
   "metadata": {},
   "outputs": [
    {
     "data": {
      "text/plain": [
       "0.2769999999999999"
      ]
     },
     "execution_count": 188,
     "metadata": {},
     "output_type": "execute_result"
    }
   ],
   "source": [
    "score8 = mean[0]-variable_2.mean()\n",
    "score8"
   ]
  },
  {
   "cell_type": "code",
   "execution_count": 189,
   "metadata": {},
   "outputs": [
    {
     "data": {
      "text/plain": [
       "0.0"
      ]
     },
     "execution_count": 189,
     "metadata": {},
     "output_type": "execute_result"
    }
   ],
   "source": [
    "std8 = variable_2.std()\n",
    "std8"
   ]
  },
  {
   "cell_type": "code",
   "execution_count": 190,
   "metadata": {},
   "outputs": [
    {
     "data": {
      "text/plain": [
       "array([0.181, 0.181, 0.181, 0.181, 0.181, 0.181, 0.181, 0.181, 0.181,\n",
       "       0.181, 0.181, 0.181, 0.181, 0.181, 0.181, 0.181, 0.181, 0.181,\n",
       "       0.181, 0.181])"
      ]
     },
     "execution_count": 190,
     "metadata": {},
     "output_type": "execute_result"
    }
   ],
   "source": [
    "variable_3 = np.zeros(20)\n",
    "for i in range(len(variable_3)):\n",
    "   df = pd.read_csv(feat_files9[i])\n",
    "   variable_3[i] = df[metric_columns].mean()[2]\n",
    "variable_3"
   ]
  },
  {
   "cell_type": "code",
   "execution_count": 191,
   "metadata": {},
   "outputs": [
    {
     "data": {
      "text/plain": [
       "0.2769999999999999"
      ]
     },
     "execution_count": 191,
     "metadata": {},
     "output_type": "execute_result"
    }
   ],
   "source": [
    "score9 = mean[0]-variable_3.mean()\n",
    "score9"
   ]
  },
  {
   "cell_type": "code",
   "execution_count": 192,
   "metadata": {},
   "outputs": [
    {
     "data": {
      "text/plain": [
       "0.0"
      ]
     },
     "execution_count": 192,
     "metadata": {},
     "output_type": "execute_result"
    }
   ],
   "source": [
    "std9 = variable_3.std()\n",
    "std9"
   ]
  },
  {
   "cell_type": "code",
   "execution_count": 193,
   "metadata": {},
   "outputs": [
    {
     "data": {
      "text/plain": [
       "array([0.181, 0.181, 0.181, 0.181, 0.181, 0.181, 0.181, 0.181, 0.181,\n",
       "       0.181, 0.181, 0.181, 0.181, 0.181, 0.181, 0.181, 0.181, 0.181,\n",
       "       0.181, 0.181])"
      ]
     },
     "execution_count": 193,
     "metadata": {},
     "output_type": "execute_result"
    }
   ],
   "source": [
    "variable_4 = np.zeros(20)\n",
    "for i in range(len(variable_4)):\n",
    "   df = pd.read_csv(feat_files10[i])\n",
    "   variable_4[i] = df[metric_columns].mean()[2]\n",
    "variable_4"
   ]
  },
  {
   "cell_type": "code",
   "execution_count": 194,
   "metadata": {},
   "outputs": [
    {
     "data": {
      "text/plain": [
       "0.2769999999999999"
      ]
     },
     "execution_count": 194,
     "metadata": {},
     "output_type": "execute_result"
    }
   ],
   "source": [
    "score10 = mean[0]-variable_4.mean()\n",
    "score10"
   ]
  },
  {
   "cell_type": "code",
   "execution_count": 195,
   "metadata": {},
   "outputs": [
    {
     "data": {
      "text/plain": [
       "0.0"
      ]
     },
     "execution_count": 195,
     "metadata": {},
     "output_type": "execute_result"
    }
   ],
   "source": [
    "std10 = variable_4.std()\n",
    "std10"
   ]
  },
  {
   "cell_type": "code",
   "execution_count": 196,
   "metadata": {},
   "outputs": [
    {
     "data": {
      "text/plain": [
       "array([0.179, 0.181, 0.183, 0.186, 0.18 , 0.178, 0.179, 0.181, 0.183,\n",
       "       0.175, 0.179, 0.177, 0.176, 0.178, 0.183, 0.186, 0.182, 0.182,\n",
       "       0.176, 0.181])"
      ]
     },
     "execution_count": 196,
     "metadata": {},
     "output_type": "execute_result"
    }
   ],
   "source": [
    "variable_5 = np.zeros(20)\n",
    "for i in range(len(variable_5)):\n",
    "   df = pd.read_csv(feat_files11[i])\n",
    "   variable_5[i] = df[metric_columns].mean()[2]\n",
    "variable_5"
   ]
  },
  {
   "cell_type": "code",
   "execution_count": 197,
   "metadata": {},
   "outputs": [
    {
     "data": {
      "text/plain": [
       "0.27774999999999994"
      ]
     },
     "execution_count": 197,
     "metadata": {},
     "output_type": "execute_result"
    }
   ],
   "source": [
    "score11 = mean[0]-variable_5.mean()\n",
    "score11"
   ]
  },
  {
   "cell_type": "code",
   "execution_count": 198,
   "metadata": {},
   "outputs": [
    {
     "data": {
      "text/plain": [
       "0.003047539991534156"
      ]
     },
     "execution_count": 198,
     "metadata": {},
     "output_type": "execute_result"
    }
   ],
   "source": [
    "std11 = variable_5.std()\n",
    "std11"
   ]
  },
  {
   "cell_type": "code",
   "execution_count": 199,
   "metadata": {},
   "outputs": [
    {
     "data": {
      "text/plain": [
       "array([0.177, 0.175, 0.171, 0.175, 0.166, 0.179, 0.176, 0.177, 0.175,\n",
       "       0.177, 0.18 , 0.181, 0.173, 0.181, 0.175, 0.176, 0.175, 0.182,\n",
       "       0.179, 0.183])"
      ]
     },
     "execution_count": 199,
     "metadata": {},
     "output_type": "execute_result"
    }
   ],
   "source": [
    "variable_6 = np.zeros(20)\n",
    "for i in range(len(variable_6)):\n",
    "   df = pd.read_csv(feat_files12[i])\n",
    "   variable_6[i] = df[metric_columns].mean()[2]\n",
    "variable_6"
   ]
  },
  {
   "cell_type": "code",
   "execution_count": 200,
   "metadata": {},
   "outputs": [
    {
     "data": {
      "text/plain": [
       "0.28134999999999993"
      ]
     },
     "execution_count": 200,
     "metadata": {},
     "output_type": "execute_result"
    }
   ],
   "source": [
    "score12 = mean[0]-variable_6.mean()\n",
    "score12"
   ]
  },
  {
   "cell_type": "code",
   "execution_count": 201,
   "metadata": {},
   "outputs": [
    {
     "data": {
      "text/plain": [
       "0.003889408695418879"
      ]
     },
     "execution_count": 201,
     "metadata": {},
     "output_type": "execute_result"
    }
   ],
   "source": [
    "std12 = variable_6.std()\n",
    "std12"
   ]
  },
  {
   "cell_type": "code",
   "execution_count": 202,
   "metadata": {},
   "outputs": [
    {
     "data": {
      "text/plain": [
       "array([0.19 , 0.179, 0.188, 0.182, 0.182, 0.174, 0.18 , 0.179, 0.196,\n",
       "       0.169, 0.198, 0.189, 0.184, 0.196, 0.179, 0.192, 0.181, 0.176,\n",
       "       0.188, 0.193])"
      ]
     },
     "execution_count": 202,
     "metadata": {},
     "output_type": "execute_result"
    }
   ],
   "source": [
    "variable_7 = np.zeros(20)\n",
    "for i in range(len(variable_7)):\n",
    "   df = pd.read_csv(feat_files13[i])\n",
    "   variable_7[i] = df[metric_columns].mean()[2]\n",
    "variable_7"
   ]
  },
  {
   "cell_type": "code",
   "execution_count": 203,
   "metadata": {},
   "outputs": [
    {
     "data": {
      "text/plain": [
       "0.2732499999999999"
      ]
     },
     "execution_count": 203,
     "metadata": {},
     "output_type": "execute_result"
    }
   ],
   "source": [
    "score13 = mean[0]-variable_7.mean()\n",
    "score13"
   ]
  },
  {
   "cell_type": "code",
   "execution_count": 204,
   "metadata": {},
   "outputs": [
    {
     "data": {
      "text/plain": [
       "0.007770939454145814"
      ]
     },
     "execution_count": 204,
     "metadata": {},
     "output_type": "execute_result"
    }
   ],
   "source": [
    "std13 = variable_7.std()\n",
    "std13"
   ]
  },
  {
   "cell_type": "code",
   "execution_count": 205,
   "metadata": {},
   "outputs": [
    {
     "data": {
      "text/plain": [
       "array([0.304, 0.302, 0.312, 0.315, 0.301, 0.303, 0.311, 0.297, 0.314,\n",
       "       0.301, 0.309, 0.33 , 0.299, 0.308, 0.307, 0.304, 0.32 , 0.307,\n",
       "       0.294, 0.311])"
      ]
     },
     "execution_count": 205,
     "metadata": {},
     "output_type": "execute_result"
    }
   ],
   "source": [
    "variable_8 = np.zeros(20)\n",
    "for i in range(len(variable_8)):\n",
    "   df = pd.read_csv(feat_files14[i])\n",
    "   variable_8[i] = df[metric_columns].mean()[2]\n",
    "variable_8"
   ]
  },
  {
   "cell_type": "code",
   "execution_count": 206,
   "metadata": {},
   "outputs": [
    {
     "data": {
      "text/plain": [
       "0.1505499999999999"
      ]
     },
     "execution_count": 206,
     "metadata": {},
     "output_type": "execute_result"
    }
   ],
   "source": [
    "score14 = mean[0]-variable_8.mean()\n",
    "score14"
   ]
  },
  {
   "cell_type": "code",
   "execution_count": 207,
   "metadata": {},
   "outputs": [
    {
     "data": {
      "text/plain": [
       "0.008163792011069353"
      ]
     },
     "execution_count": 207,
     "metadata": {},
     "output_type": "execute_result"
    }
   ],
   "source": [
    "std14 = variable_8.std()\n",
    "std14"
   ]
  },
  {
   "cell_type": "code",
   "execution_count": 208,
   "metadata": {},
   "outputs": [
    {
     "data": {
      "text/plain": [
       "array([0.248, 0.251, 0.236, 0.238, 0.247, 0.247, 0.248, 0.236, 0.238,\n",
       "       0.252, 0.231, 0.248, 0.237, 0.227, 0.228, 0.238, 0.242, 0.236,\n",
       "       0.244, 0.233])"
      ]
     },
     "execution_count": 208,
     "metadata": {},
     "output_type": "execute_result"
    }
   ],
   "source": [
    "variable_9 = np.zeros(20)\n",
    "for i in range(len(variable_9)):\n",
    "   df = pd.read_csv(feat_files15[i])\n",
    "   variable_9[i] = df[metric_columns].mean()[2]\n",
    "variable_9"
   ]
  },
  {
   "cell_type": "code",
   "execution_count": 209,
   "metadata": {},
   "outputs": [
    {
     "data": {
      "text/plain": [
       "0.21774999999999997"
      ]
     },
     "execution_count": 209,
     "metadata": {},
     "output_type": "execute_result"
    }
   ],
   "source": [
    "score15 = mean[0]-variable_9.mean()\n",
    "score15"
   ]
  },
  {
   "cell_type": "code",
   "execution_count": 210,
   "metadata": {},
   "outputs": [
    {
     "data": {
      "text/plain": [
       "0.00736800515743576"
      ]
     },
     "execution_count": 210,
     "metadata": {},
     "output_type": "execute_result"
    }
   ],
   "source": [
    "std15 = variable_9.std()\n",
    "std15"
   ]
  },
  {
   "cell_type": "code",
   "execution_count": 211,
   "metadata": {},
   "outputs": [
    {
     "data": {
      "text/plain": [
       "array([0.281, 0.301, 0.295, 0.298, 0.302, 0.303, 0.306, 0.301, 0.291,\n",
       "       0.283, 0.298, 0.29 , 0.296, 0.296, 0.299, 0.297, 0.285, 0.297,\n",
       "       0.296, 0.286])"
      ]
     },
     "execution_count": 211,
     "metadata": {},
     "output_type": "execute_result"
    }
   ],
   "source": [
    "variable_10 = np.zeros(20)\n",
    "for i in range(len(variable_10)):\n",
    "   df = pd.read_csv(feat_files16[i])\n",
    "   variable_10[i] = df[metric_columns].mean()[2]\n",
    "variable_10"
   ]
  },
  {
   "cell_type": "code",
   "execution_count": 212,
   "metadata": {},
   "outputs": [
    {
     "data": {
      "text/plain": [
       "0.16294999999999993"
      ]
     },
     "execution_count": 212,
     "metadata": {},
     "output_type": "execute_result"
    }
   ],
   "source": [
    "score16 = mean[0]-variable_10.mean()\n",
    "score16"
   ]
  },
  {
   "cell_type": "code",
   "execution_count": 213,
   "metadata": {},
   "outputs": [
    {
     "data": {
      "text/plain": [
       "0.006756293362488038"
      ]
     },
     "execution_count": 213,
     "metadata": {},
     "output_type": "execute_result"
    }
   ],
   "source": [
    "std16 = variable_10.std()\n",
    "std16"
   ]
  },
  {
   "cell_type": "code",
   "execution_count": 214,
   "metadata": {},
   "outputs": [
    {
     "data": {
      "text/plain": [
       "array([0.23 , 0.233, 0.235, 0.234, 0.225, 0.228, 0.232, 0.233, 0.235,\n",
       "       0.231, 0.235, 0.238, 0.228, 0.241, 0.237, 0.233, 0.238, 0.23 ,\n",
       "       0.229, 0.227])"
      ]
     },
     "execution_count": 214,
     "metadata": {},
     "output_type": "execute_result"
    }
   ],
   "source": [
    "variable_11 = np.zeros(20)\n",
    "for i in range(len(variable_11)):\n",
    "   df = pd.read_csv(feat_files17[i])\n",
    "   variable_11[i] = df[metric_columns].mean()[2]\n",
    "variable_11"
   ]
  },
  {
   "cell_type": "code",
   "execution_count": 215,
   "metadata": {},
   "outputs": [
    {
     "data": {
      "text/plain": [
       "0.2253999999999999"
      ]
     },
     "execution_count": 215,
     "metadata": {},
     "output_type": "execute_result"
    }
   ],
   "source": [
    "score17 = mean[0]-variable_11.mean()\n",
    "score17"
   ]
  },
  {
   "cell_type": "code",
   "execution_count": 216,
   "metadata": {},
   "outputs": [
    {
     "data": {
      "text/plain": [
       "0.004054626986542651"
      ]
     },
     "execution_count": 216,
     "metadata": {},
     "output_type": "execute_result"
    }
   ],
   "source": [
    "std17 = variable_11.std()\n",
    "std17"
   ]
  },
  {
   "cell_type": "code",
   "execution_count": 217,
   "metadata": {},
   "outputs": [
    {
     "data": {
      "text/plain": [
       "array([0.169, 0.179, 0.17 , 0.173, 0.173, 0.172, 0.17 , 0.177, 0.17 ,\n",
       "       0.179, 0.172, 0.169, 0.173, 0.175, 0.178, 0.169, 0.174, 0.171,\n",
       "       0.17 , 0.176])"
      ]
     },
     "execution_count": 217,
     "metadata": {},
     "output_type": "execute_result"
    }
   ],
   "source": [
    "variable_12 = np.zeros(20)\n",
    "for i in range(len(variable_12)):\n",
    "   df = pd.read_csv(feat_files18[i])\n",
    "   variable_12[i] = df[metric_columns].mean()[2]\n",
    "variable_12"
   ]
  },
  {
   "cell_type": "code",
   "execution_count": 218,
   "metadata": {},
   "outputs": [
    {
     "data": {
      "text/plain": [
       "0.2850499999999999"
      ]
     },
     "execution_count": 218,
     "metadata": {},
     "output_type": "execute_result"
    }
   ],
   "source": [
    "score18 = mean[0]-variable_12.mean()\n",
    "score18"
   ]
  },
  {
   "cell_type": "code",
   "execution_count": 219,
   "metadata": {},
   "outputs": [
    {
     "data": {
      "text/plain": [
       "0.0032935543110748943"
      ]
     },
     "execution_count": 219,
     "metadata": {},
     "output_type": "execute_result"
    }
   ],
   "source": [
    "std18 = variable_12.std()\n",
    "std18"
   ]
  },
  {
   "cell_type": "code",
   "execution_count": 220,
   "metadata": {},
   "outputs": [
    {
     "data": {
      "text/plain": [
       "array([0.173, 0.183, 0.172, 0.175, 0.168, 0.181, 0.168, 0.162, 0.175,\n",
       "       0.172, 0.171, 0.182, 0.166, 0.17 , 0.171, 0.174, 0.166, 0.173,\n",
       "       0.181, 0.17 ])"
      ]
     },
     "execution_count": 220,
     "metadata": {},
     "output_type": "execute_result"
    }
   ],
   "source": [
    "variable_13 = np.zeros(20)\n",
    "for i in range(len(variable_13)):\n",
    "   df = pd.read_csv(feat_files19[i])\n",
    "   variable_13[i] = df[metric_columns].mean()[2]\n",
    "variable_13"
   ]
  },
  {
   "cell_type": "code",
   "execution_count": 221,
   "metadata": {},
   "outputs": [
    {
     "data": {
      "text/plain": [
       "0.2853499999999999"
      ]
     },
     "execution_count": 221,
     "metadata": {},
     "output_type": "execute_result"
    }
   ],
   "source": [
    "score19 = mean[0]-variable_13.mean()\n",
    "score19"
   ]
  },
  {
   "cell_type": "code",
   "execution_count": 222,
   "metadata": {},
   "outputs": [
    {
     "data": {
      "text/plain": [
       "0.005534211777660846"
      ]
     },
     "execution_count": 222,
     "metadata": {},
     "output_type": "execute_result"
    }
   ],
   "source": [
    "std19 = variable_13.std()\n",
    "std19"
   ]
  },
  {
   "cell_type": "code",
   "execution_count": 224,
   "metadata": {},
   "outputs": [
    {
     "data": {
      "text/html": [
       "<div>\n",
       "<style scoped>\n",
       "    .dataframe tbody tr th:only-of-type {\n",
       "        vertical-align: middle;\n",
       "    }\n",
       "\n",
       "    .dataframe tbody tr th {\n",
       "        vertical-align: top;\n",
       "    }\n",
       "\n",
       "    .dataframe thead th {\n",
       "        text-align: right;\n",
       "    }\n",
       "</style>\n",
       "<table border=\"1\" class=\"dataframe\">\n",
       "  <thead>\n",
       "    <tr style=\"text-align: right;\">\n",
       "      <th></th>\n",
       "      <th>edge</th>\n",
       "      <th>CF1</th>\n",
       "      <th>CF2</th>\n",
       "      <th>CF3</th>\n",
       "      <th>CF4</th>\n",
       "      <th>CF5</th>\n",
       "      <th>VF1</th>\n",
       "      <th>VF2</th>\n",
       "      <th>VF3</th>\n",
       "      <th>VF4</th>\n",
       "      <th>VF5</th>\n",
       "      <th>VF6</th>\n",
       "      <th>VF7</th>\n",
       "      <th>VF8</th>\n",
       "      <th>VF9</th>\n",
       "      <th>VF10</th>\n",
       "      <th>VF11</th>\n",
       "      <th>VF12</th>\n",
       "      <th>VF13</th>\n",
       "    </tr>\n",
       "  </thead>\n",
       "  <tbody>\n",
       "    <tr>\n",
       "      <th>0</th>\n",
       "      <td>0.25875</td>\n",
       "      <td>0.24965</td>\n",
       "      <td>0.23595</td>\n",
       "      <td>0.28215</td>\n",
       "      <td>0.273</td>\n",
       "      <td>0.2762</td>\n",
       "      <td>0.277</td>\n",
       "      <td>0.277</td>\n",
       "      <td>0.277</td>\n",
       "      <td>0.277</td>\n",
       "      <td>0.27775</td>\n",
       "      <td>0.28135</td>\n",
       "      <td>0.27325</td>\n",
       "      <td>0.15055</td>\n",
       "      <td>0.21775</td>\n",
       "      <td>0.16295</td>\n",
       "      <td>0.2254</td>\n",
       "      <td>0.28505</td>\n",
       "      <td>0.28535</td>\n",
       "    </tr>\n",
       "  </tbody>\n",
       "</table>\n",
       "</div>"
      ],
      "text/plain": [
       "      edge      CF1      CF2      CF3    CF4     CF5    VF1    VF2    VF3  \\\n",
       "0  0.25875  0.24965  0.23595  0.28215  0.273  0.2762  0.277  0.277  0.277   \n",
       "\n",
       "     VF4      VF5      VF6      VF7      VF8      VF9     VF10    VF11  \\\n",
       "0  0.277  0.27775  0.28135  0.27325  0.15055  0.21775  0.16295  0.2254   \n",
       "\n",
       "      VF12     VF13  \n",
       "0  0.28505  0.28535  "
      ]
     },
     "execution_count": 224,
     "metadata": {},
     "output_type": "execute_result"
    }
   ],
   "source": [
    "data = {\n",
    "    'edge' :[score1],\n",
    "    'CF1' :[score2],\n",
    "    'CF2':[score3],\n",
    "    'CF3':[score4],\n",
    "    'CF4':[score5],\n",
    "    'CF5':[score6],\n",
    "    'VF1':[score7],\n",
    "    'VF2':[score8],\n",
    "    'VF3':[score9],\n",
    "    'VF4':[score10],\n",
    "    'VF5':[score11],\n",
    "    'VF6':[score12],\n",
    "    'VF7':[score13],\n",
    "    'VF8':[score14],\n",
    "    'VF9':[score15],\n",
    "    'VF10':[score16],\n",
    "    'VF11':[score17],\n",
    "    'VF12':[score18],\n",
    "    'VF13':[score19]\n",
    "}\n",
    "df= pd.DataFrame(data)\n",
    "df"
   ]
  },
  {
   "cell_type": "code",
   "execution_count": 423,
   "metadata": {},
   "outputs": [],
   "source": [
    "data_x = np.arange(17)\n",
    "data_y = [score1,score2,score3,score4,score5,score6,score17,score7,score8,score9,score10,score11,score12,score13,score14,score15,score16]\n",
    "std_err=[std1,std2,std3,std4,std5,std6,std17,std7,std8,std9,std10,std11,std12,std13,std14,std15,std16]\n",
    "tick = (\"edge\",\"CF1\",\"CF2\",\"CF3\",\"CF4\",\"CF5\",\"VF1\",\"VF2\",\"VF3\",\"VF4\",\"VF5\",\"VF6\",\"VF7\",\"VF8\",\"VF9\",\"VF10\",\"VF11\")\n",
    "# # df = pd.DataFrame(data)\n",
    "# df.index=[' ']\n",
    "# df"
   ]
  },
  {
   "cell_type": "code",
   "execution_count": 71,
   "metadata": {},
   "outputs": [
    {
     "data": {
      "text/plain": [
       "[0.007825000000000082,\n",
       " 0.004587500000000078,\n",
       " 0.0046999999999999265,\n",
       " 0.1627249999999998,\n",
       " 0.00946249999999993,\n",
       " 0.20643749999999983,\n",
       " 0.0,\n",
       " 0.027487499999999776,\n",
       " 0.04027499999999995,\n",
       " 0.0702124999999999,\n",
       " 0.3809125,\n",
       " 0.1027499999999999,\n",
       " 0.012924999999999853,\n",
       " 0.021312499999999956,\n",
       " 0.21042499999999997,\n",
       " -0.004550000000000054,\n",
       " 0.004212499999999841]"
      ]
     },
     "execution_count": 71,
     "metadata": {},
     "output_type": "execute_result"
    }
   ],
   "source": [
    "data_set = [score1,score2,score3,score4,score5,score6,score17,score7,score8,score9,score10,score11,score12,score13,score14,score15,score16]\n",
    "std_err_set=[std1,std2,std3,std4,std5,std6,std17,std7,std8,std9,std10,std11,std12,std13,std14,std15,std16]\n",
    "data_set"
   ]
  },
  {
   "cell_type": "code",
   "execution_count": 131,
   "metadata": {},
   "outputs": [
    {
     "data": {
      "text/plain": [
       "[0.00286249999999999,\n",
       " 0.028787499999999966,\n",
       " 0.01232499999999992,\n",
       " 0.00482500000000019,\n",
       " -0.002387499999999987,\n",
       " -2.5000000000052758e-05,\n",
       " 0.0,\n",
       " 0.020412499999999945,\n",
       " 0.11397500000000005,\n",
       " 0.06691249999999982,\n",
       " 0.3467125,\n",
       " 0.2654749999999999,\n",
       " 0.007150000000000101,\n",
       " 0.0180499999999999,\n",
       " 0.10373750000000004,\n",
       " -0.0043875000000001,\n",
       " -0.004850000000000021]"
      ]
     },
     "execution_count": 131,
     "metadata": {},
     "output_type": "execute_result"
    }
   ],
   "source": [
    "data_cau = [score1,score2,score3,score4,score5,score6,score17,score7,score8,score9,score10,score11,score12,score13,score14,score15,score16]\n",
    "std_err_cau=[std1,std2,std3,std4,std5,std6,std17,std7,std8,std9,std10,std11,std12,std13,std14,std15,std16]\n",
    "data_cau"
   ]
  },
  {
   "cell_type": "code",
   "execution_count": 188,
   "metadata": {},
   "outputs": [
    {
     "data": {
      "text/plain": [
       "[-0.0011750000000000371,\n",
       " -0.005087500000000245,\n",
       " -0.006125000000000269,\n",
       " 0.0007249999999996426,\n",
       " 0.0003249999999997977,\n",
       " -7.500000000015827e-05,\n",
       " 0.16547499999999982,\n",
       " -0.0010625000000001883,\n",
       " -0.0035875000000000767,\n",
       " -0.0006625000000001213,\n",
       " 0.1111249999999997,\n",
       " -0.006500000000000283,\n",
       " -0.0005375000000000796,\n",
       " -0.0016125000000002387,\n",
       " 0.0024125000000000396,\n",
       " -0.0012250000000001426,\n",
       " -0.00010000000000010001]"
      ]
     },
     "execution_count": 188,
     "metadata": {},
     "output_type": "execute_result"
    }
   ],
   "source": [
    "data_fac = [score1,score2,score3,score4,score5,score6,score17,score7,score8,score9,score10,score11,score12,score13,score14,score15,score16]\n",
    "std_err_fac=[std1,std2,std3,std4,std5,std6,std17,std7,std8,std9,std10,std11,std12,std13,std14,std15,std16]\n",
    "data_fac"
   ]
  },
  {
   "cell_type": "code",
   "execution_count": 144,
   "metadata": {},
   "outputs": [
    {
     "data": {
      "text/plain": [
       "[-0.004950000000000121,\n",
       " 0.0007999999999999674,\n",
       " 0.025199999999999945,\n",
       " 0.023249999999999882,\n",
       " 0.043899999999999884,\n",
       " 0.01699999999999996,\n",
       " -0.012450000000000017,\n",
       " 0.0,\n",
       " 0.0,\n",
       " 0.0,\n",
       " 0.0,\n",
       " 0.005549999999999999,\n",
       " 0.01459999999999989,\n",
       " 0.06484999999999991,\n",
       " -0.08939999999999998,\n",
       " -0.034750000000000114,\n",
       " -0.04914999999999997]"
      ]
     },
     "execution_count": 144,
     "metadata": {},
     "output_type": "execute_result"
    }
   ],
   "source": [
    "data_ind = [score1,score2,score3,score4,score5,score6,score17,score7,score8,score9,score10,score11,score12,score13,score14,score15,score16]\n",
    "std_err_ind=[std1,std2,std3,std4,std5,std6,std17,std7,std8,std9,std10,std11,std12,std13,std14,std15,std16]\n",
    "data_ind"
   ]
  },
  {
   "cell_type": "code",
   "execution_count": 148,
   "metadata": {},
   "outputs": [
    {
     "data": {
      "image/png": "[encoded data removed]",
      "text/plain": [
       "<Figure size 576x360 with 1 Axes>"
      ]
     },
     "metadata": {
      "needs_background": "light"
     },
     "output_type": "display_data"
    }
   ],
   "source": [
    "tick = (\"CF1\",\"CF2\",\"CF3\",\"CF4\",\"CF5\",\"edge\",\"VF1\",\"VF2\",\"VF3\",\"VF4\",\"VF5\",\"VF6\",\"VF7\",\"VF8\",\"VF9\",\"VF10\",\"VF11\")\n",
    "plt.figure(figsize=(8,5))\n",
    "bar_width = 0.4\n",
    "plt.xlabel(\"Bigraph features\",fontsize=10)\n",
    "plt.ylabel(\"BPFI scores on acc@5 accuracy\",fontsize=10)\n",
    "error_params=dict(elinewidth=4,ecolor='coral',capsize=5)\n",
    "# plt.plot(tick,data_set,linestyle='--',linewidth=1.8)\n",
    "# plt.plot(tick,data_cau,linestyle='-.',linewidth=1.8)\n",
    "plt.plot(tick,data_ind,linestyle=':',linewidth=1.8)\n",
    "# plt.plot(tick,data_fac,dashes=[6, 4],linewidth=1.8)\n",
    "#plt.tight_layout()\n",
    "plt.xticks(rotation=290)\n",
    "plt.tick_params(labelsize=10) \n",
    "# plt.legend(['Set Covering', 'Combinatorial Auction','Maximum Independent Set','Capacitated Facility Location'])\n",
    "plt.legend(['Maximum Independent Set'])\n",
    "plt.savefig('score.pdf',bbox_inches = \"tight\")"
   ]
  },
  {
   "cell_type": "code",
   "execution_count": 741,
   "metadata": {},
   "outputs": [
    {
     "data": {
      "text/plain": [
       "<matplotlib.legend.Legend at 0x1cbdba91a30>"
      ]
     },
     "execution_count": 741,
     "metadata": {},
     "output_type": "execute_result"
    },
    {
     "data": {
      "image/png": "[encoded data removed]",
      "text/plain": [
       "<Figure size 720x576 with 1 Axes>"
      ]
     },
     "metadata": {
      "needs_background": "light"
     },
     "output_type": "display_data"
    }
   ],
   "source": [
    "\n",
    "X = np.arange(17)\n",
    "plt.figure(figsize=(10,8))\n",
    "#添加子图区域\n",
    "#绘制柱状图\n",
    "plt.bar(X + 0.00, std_err_set, width = 0.25)\n",
    "plt.bar(X + 0.25, std_err_cau,  width = 0.25)\n",
    "plt.bar(X + 0.50, std_err_ind,  width = 0.25)\n",
    "plt.bar(X + 0.75, std_err_fac,  width = 0.25)\n",
    "plt.legend(['Setcover', 'Cauctions','Indset','Facilities'])"
   ]
  },
  {
   "cell_type": "code",
   "execution_count": 754,
   "metadata": {},
   "outputs": [
    {
     "data": {
      "image/png": "[encoded data removed]",
      "text/plain": [
       "<Figure size 720x576 with 1 Axes>"
      ]
     },
     "metadata": {
      "needs_background": "light"
     },
     "output_type": "display_data"
    }
   ],
   "source": [
    "\n",
    "plt.figure(figsize=(10,8))\n",
    "label = ['Setcover', 'Cauctions','Indset','Facilities']\n",
    "plt.stackplot(,std_err_set,std_err_cau,std_err_ind,std_err_fac,labels=label)\n",
    "plt.xlabel('Features',fontsize=20)  # x轴标题\n",
    "plt.ylabel('Errors',fontsize=20)  # y轴标题\n",
    "plt.xticks(rotation=290)\n",
    "plt.tick_params(labelsize=15)\n",
    "plt.legend(['Setcover', 'Cauctions','Indset','Facilities'])\n",
    "plt.savefig('err.pdf')"
   ]
  },
  {
   "cell_type": "code",
   "execution_count": 424,
   "metadata": {},
   "outputs": [
    {
     "data": {
      "image/png": "[encoded data removed]",
      "text/plain": [
       "<Figure size 720x576 with 1 Axes>"
      ]
     },
     "metadata": {
      "needs_background": "light"
     },
     "output_type": "display_data"
    }
   ],
   "source": [
    "plt.figure(figsize=(10,8))\n",
    "bar_width = 0.4\n",
    "plt.xlabel(\"Features\",fontsize=20)\n",
    "plt.ylabel(\"Scores\",fontsize=20)\n",
    "error_params=dict(elinewidth=4,ecolor='coral',capsize=5)\n",
    "plt.bar(x = tick,height = data_y,yerr = std_err,error_kw=error_params)\n",
    "#plt.tight_layout()\n",
    "plt.ylim((-0.07,0.40))\n",
    "plt.xticks(rotation=290)\n",
    "plt.tick_params(labelsize=15) \n",
    "#plt.show()\n",
    "plt.savefig('b.pdf')\n",
    "#plt.savefig('4.pdf',bbox_inches = \"tight\")\n",
    "# ax.set_title(\"SetCover_Permutation\")\n",
    "# ax.set_ylabel('acc@10')\n",
    "# ax.set_ylim(-0.06,0.30)\n",
    "# ax.set_xlim(-0.4,0.3)"
   ]
  },
  {
   "cell_type": "code",
   "execution_count": 67,
   "metadata": {},
   "outputs": [
    {
     "data": {
      "image/png": "[encoded data removed]",
      "text/plain": [
       "<Figure size 432x288 with 1 Axes>"
      ]
     },
     "metadata": {
      "needs_background": "light"
     },
     "output_type": "display_data"
    }
   ],
   "source": [
    "ax = plt.gca()\n",
    "ax.xaxis.set_ticks_position(\"bottom\")\n",
    "ax.yaxis.set_ticks_position(\"left\")\n",
    "ax.spines[\"bottom\"].set_position((\"data\",0))\n",
    "plt.show()"
   ]
  },
  {
   "cell_type": "code",
   "execution_count": 486,
   "metadata": {},
   "outputs": [
    {
     "data": {
      "image/png": "[encoded data removed]",
      "text/plain": [
       "<Figure size 720x576 with 1 Axes>"
      ]
     },
     "metadata": {
      "needs_background": "light"
     },
     "output_type": "display_data"
    }
   ],
   "source": [
    "plt.figure(figsize=(10,8))\n",
    "x = [\"Setco1\", \"Setco2\",\"Cauct1\",\"Cauct2\",\"Indset1\",\"Indset2\",\"Facilit1\",\"Facilit2\"]\n",
    "y1 = [1, 1, 1, 1, 1, 1, 1,1]\n",
    "y2 = [0.9772, 0.9353, 1.0066, 0.9826, 0.3530, 4.2284, 0.9726,1.0075]\n",
    "#绘制折线图，添加数据点，设置点的大小\n",
    "# * 表示绘制五角星；此处也可以不设置线条颜色，matplotlib会自动为线条添加不同的颜色\n",
    "plt.plot(x, y1, 'r',marker='.', markersize=10)\n",
    "plt.plot(x, y2, 'b', marker='.',markersize=10)\n",
    "#plt.title('ML-B&B solution efficiencies terms of number of B&B nodes')  # 折线图标题\n",
    "plt.xlabel('Problems',fontsize=20)  # x轴标题\n",
    "plt.ylabel('The number of nodes',fontsize=20)  # y轴标题\n",
    "#给图像添加注释，并设置样式\n",
    "#for a, b in zip(x, y1):\n",
    "   # plt.text(a, b, b, ha='center', va='bottom', fontsize=10)\n",
    "for a, b in zip(x, y2):\n",
    "    plt.text(a, b, b, ha='center', va='bottom', fontsize=10)\n",
    "#绘制图例\n",
    "plt.legend(['model1', 'model2'])\n",
    "plt.tick_params(labelsize=15) \n",
    "#plt.yscale(\"log\")\n",
    "plt.ylim((0,4.5))\n",
    "#显示图像\n",
    "#plt.show()\n",
    "plt.savefig(\"node.pdf\")"
   ]
  },
  {
   "cell_type": "code",
   "execution_count": null,
   "metadata": {},
   "outputs": [],
   "source": [
    "x = [\"Setco1\", \"Setco2\",\"Cauct1\",\"Cauct2\",\"Indset1\",\"Indset2\",\"Facilit1\",\"Facilit2\"]\n",
    "y1 = [1, 1, 1, 1, 1, 1, 1,1]\n",
    "y2 = [0.9772, 0.9353, 1.0066, 0.9826, 0.3530, 4.2284, 0.9726,1.0075]"
   ]
  },
  {
   "cell_type": "code",
   "execution_count": 488,
   "metadata": {},
   "outputs": [
    {
     "data": {
      "image/png": "[encoded data removed]",
      "text/plain": [
       "<Figure size 720x576 with 1 Axes>"
      ]
     },
     "metadata": {
      "needs_background": "light"
     },
     "output_type": "display_data"
    }
   ],
   "source": [
    "plt.figure(figsize=(10,8))\n",
    "x = [\"Setco1\", \"Setco2\",\"Cauct1\",\"Cauct2\",\"Indset1\",\"Indset2\",\"Facilit1\",\"Facilit2\"]\n",
    "y1 = [1, 1, 1, 1, 1, 1, 1,1]\n",
    "y2 = [0.9732, 0.9212, 0.9938, 0.9575, 0.4898, 3.7540, 0.9779,0.9798]\n",
    "#绘制折线图，添加数据点，设置点的大小\n",
    "# * 表示绘制五角星；此处也可以不设置线条颜色，matplotlib会自动为线条添加不同的颜色\n",
    "plt.plot(x, y1, 'r', marker='.',markersize=10)\n",
    "plt.plot(x, y2, 'b', marker='.',markersize=10)\n",
    "#plt.title('ML-B&B solution efficiencies terms of soving time')  # 折线图标题\n",
    "plt.xlabel('Problems',fontsize=20)  # x轴标题\n",
    "plt.ylabel('Time',fontsize=20)  # y轴标题\n",
    "#给图像添加注释，并设置样式\n",
    "#plt.axhline(0, linestyle='--')\n",
    "#for a, b in zip(x, y1):\n",
    "  #  plt.text(a, b, b, ha='center', va='bottom', fontsize=10)\n",
    "for a, b in zip(x, y2):\n",
    "    plt.text(a, b, b, ha='center', va='bottom', fontsize=10)\n",
    "plt.tick_params(labelsize=15) \n",
    "plt.ylim((0,4.5))\n",
    "#绘制图例\n",
    "#plt.legend(['model1', 'model2'])\n",
    "#plt.yscale(\"log\")\n",
    "#显示图像\n",
    "#plt.show()\n",
    "plt.savefig(\"time.pdf\")"
   ]
  },
  {
   "cell_type": "code",
   "execution_count": 38,
   "metadata": {},
   "outputs": [
    {
     "data": {
      "image/png": "[encoded data removed]",
      "text/plain": [
       "<Figure size 576x432 with 1 Axes>"
      ]
     },
     "metadata": {
      "needs_background": "light"
     },
     "output_type": "display_data"
    }
   ],
   "source": [
    "plt.figure(figsize=(8,6))\n",
    "x = [\"SC(Easy)\", \"SC(Medium)\",\"SC(Big)\",\"CA(Easy)\",\"CA(Medium)\",\"CA(Big)\",\"MIS(Easy)\",\"MIS(Medium)\",\"MIS(Big)\",\"CFL(Easy)\",\"CFL(Medium)\",\"CFL(Big)\"]\n",
    "model1 = np.array([2,21,20,4,24,35,19,24,27,8,14,11])\n",
    "model2 = np.array([0,0,3,1,0,0,6,0,9,1,1,4])\n",
    "model3 = np.array([95,45,10,93,38,0,55,10,14,78,67,48])\n",
    "model4 = np.array([3,34,67,2,38,65,20,66,50,13,18,37])\n",
    "# plt.bar(x,model2,label='model1',hatch='\\\\',alpha=0.9,edgecolor = 'white')\n",
    "# plt.bar(x,model1,bottom=model2,label='model2',alpha=0.2)\n",
    "plt.barh(x,model1,label='Full GCNN',height=0.67,color = 'pink',alpha=0.4)\n",
    "plt.barh(x,model2,left=model1,label='TREES',height=0.67,color = 'lightblue')\n",
    "plt.barh(x,model3,left=model1+model2,label='LMART',height=0.67,color = 'plum',alpha=0.4)\n",
    "plt.barh(x,model4,left=model1+model2+model3,label='BPFI-GCNN',hatch='\\\\',edgecolor = 'white',height=0.67,alpha=0.1,color = 'lightgreen')\n",
    "#plt.bar(x,model1,bottom=model2,label='model2',color = 'white',edgecolor='black')\n",
    "# alpha=0.9,\n",
    "plt.legend(bbox_to_anchor=(1.05,1.0))\n",
    "# plt.axvline(x=50, color='black', linestyle='-.',linewidth=0.5)\n",
    "#plt.title('ML-B&B solution efficiencies terms of wins')  # 折线图标题\n",
    "plt.ylabel('Problems',fontsize=10)  # x轴标题\n",
    "plt.xlabel('Wins',fontsize=10)  # y轴标题\n",
    "plt.xticks(rotation=20)\n",
    "plt.tick_params(labelsize=10) \n",
    "plt.savefig(\"win.pdf\",bbox_inches = \"tight\")"
   ]
  },
  {
   "cell_type": "code",
   "execution_count": 46,
   "metadata": {},
   "outputs": [
    {
     "data": {
      "image/png": "[encoded data removed]",
      "text/plain": [
       "<Figure size 576x432 with 1 Axes>"
      ]
     },
     "metadata": {
      "needs_background": "light"
     },
     "output_type": "display_data"
    }
   ],
   "source": [
    "plt.figure(figsize=(8,6))\n",
    "x = np.arange(4)\n",
    "model1 = np.array([2,4,8,19])\n",
    "model2 = np.array([0,1,1,6])\n",
    "model3 = np.array([95,93,78,55])\n",
    "model4 = np.array([3,2,13,20])\n",
    "width = 0.1\n",
    "tick_label = ['setcover','cauctions','indset','facilities']\n",
    "plt.bar(x-1.5*width,model1,width,label='Full GCNN')\n",
    "plt.bar(x-0.5*width,model2,width,label='TREES')\n",
    "plt.bar(x+0.5*width,model3,width,label='LMART')\n",
    "plt.bar(x+1.5*width,model4,width,label='BPFI')\n",
    "plt.ylabel('Wins',fontsize=10)  # x轴标题\n",
    "plt.xlabel('Easy',fontsize=10)  # y轴标题\n",
    "plt.xticks(x,labels=tick_label)\n",
    "plt.legend()\n",
    "plt.show()"
   ]
  },
  {
   "cell_type": "code",
   "execution_count": 47,
   "metadata": {},
   "outputs": [
    {
     "data": {
      "image/png": "[encoded data removed]",
      "text/plain": [
       "<Figure size 576x432 with 1 Axes>"
      ]
     },
     "metadata": {
      "needs_background": "light"
     },
     "output_type": "display_data"
    }
   ],
   "source": [
    "plt.figure(figsize=(8,6))\n",
    "x = np.arange(4)\n",
    "model1 = np.array([21,24,14,24])\n",
    "model2 = np.array([0,0,1,0])\n",
    "model3 = np.array([45,38,67,10])\n",
    "model4 = np.array([34,38,18,66])\n",
    "width = 0.1\n",
    "tick_label = ['setcover','cauctions','indset','facilities']\n",
    "plt.bar(x-1.5*width,model1,width,label='Full GCNN')\n",
    "plt.bar(x-0.5*width,model2,width,label='TREES')\n",
    "plt.bar(x+0.5*width,model3,width,label='LMART')\n",
    "plt.bar(x+1.5*width,model4,width,label='BPFI')\n",
    "plt.ylabel('Wins',fontsize=10)  # x轴标题\n",
    "plt.xlabel('Medium',fontsize=10)  # y轴标题\n",
    "plt.xticks(x,labels=tick_label)\n",
    "plt.legend()\n",
    "plt.show()"
   ]
  },
  {
   "cell_type": "code",
   "execution_count": 48,
   "metadata": {},
   "outputs": [
    {
     "data": {
      "image/png": "[encoded data removed]",
      "text/plain": [
       "<Figure size 576x432 with 1 Axes>"
      ]
     },
     "metadata": {
      "needs_background": "light"
     },
     "output_type": "display_data"
    }
   ],
   "source": [
    "plt.figure(figsize=(8,6))\n",
    "x = np.arange(4)\n",
    "model1 = np.array([20,35,11,27])\n",
    "model2 = np.array([3,0,4,9])\n",
    "model3 = np.array([10,0,48,14])\n",
    "model4 = np.array([67,65,37,50])\n",
    "width = 0.1\n",
    "tick_label = ['setcover','cauctions','indset','facilities']\n",
    "plt.bar(x-1.5*width,model1,width,label='Full GCNN')\n",
    "plt.bar(x-0.5*width,model2,width,label='TREES')\n",
    "plt.bar(x+0.5*width,model3,width,label='LMART')\n",
    "plt.bar(x+1.5*width,model4,width,label='BPFI')\n",
    "plt.ylabel('Wins',fontsize=10)  # x轴标题\n",
    "plt.xlabel('Hard',fontsize=10)  # y轴标题\n",
    "plt.xticks(x,labels=tick_label)\n",
    "plt.legend()\n",
    "plt.show()"
   ]
  },
  {
   "cell_type": "code",
   "execution_count": 43,
   "metadata": {},
   "outputs": [
    {
     "data": {
      "image/png": "[encoded data removed]",
      "text/plain": [
       "<Figure size 576x432 with 1 Axes>"
      ]
     },
     "metadata": {
      "needs_background": "light"
     },
     "output_type": "display_data"
    }
   ],
   "source": [
    "plt.figure(figsize=(8,6))\n",
    "x = np.arange(3)\n",
    "model1 = np.array([4,24,35])\n",
    "model2 = np.array([1,0,0])\n",
    "model3 = np.array([93,38,0])\n",
    "model4 = np.array([2,38,65])\n",
    "width = 0.1\n",
    "tick_label = ['Easy','Medium','Hard']\n",
    "plt.bar(x-1.5*width,model1,width,label='Full GCNN')\n",
    "plt.bar(x-0.5*width,model2,width,label='TREES')\n",
    "plt.bar(x+0.5*width,model3,width,label='LMART')\n",
    "plt.bar(x+1.5*width,model4,width,label='BPFI')\n",
    "plt.ylabel('Wins',fontsize=10)  # x轴标题\n",
    "plt.xlabel('Cautions',fontsize=10)  # y轴标题\n",
    "plt.xticks(x,labels=tick_label)\n",
    "plt.legend()\n",
    "plt.show()"
   ]
  },
  {
   "cell_type": "code",
   "execution_count": 49,
   "metadata": {},
   "outputs": [
    {
     "data": {
      "image/png": "[encoded data removed]",
      "text/plain": [
       "<Figure size 576x432 with 1 Axes>"
      ]
     },
     "metadata": {
      "needs_background": "light"
     },
     "output_type": "display_data"
    }
   ],
   "source": [
    "plt.figure(figsize=(8,6))\n",
    "x = np.arange(3)\n",
    "model1 = np.array([2,21,20])\n",
    "model2 = np.array([0,0,3])\n",
    "model3 = np.array([95,45,10])\n",
    "model4 = np.array([3,34,67])\n",
    "width = 0.1\n",
    "tick_label = ['Easy','Medium','Hard']\n",
    "plt.bar(x-1.5*width,model1,width,label='Full GCNN')\n",
    "plt.bar(x-0.5*width,model2,width,label='TREES')\n",
    "plt.bar(x+0.5*width,model3,width,label='LMART')\n",
    "plt.bar(x+1.5*width,model4,width,label='BPFI')\n",
    "plt.ylabel('Wins',fontsize=10)  # x轴标题\n",
    "plt.xlabel('setcover',fontsize=10)  # y轴标题\n",
    "plt.xticks(x,labels=tick_label)\n",
    "plt.legend()\n",
    "plt.show()"
   ]
  },
  {
   "cell_type": "code",
   "execution_count": 50,
   "metadata": {},
   "outputs": [
    {
     "data": {
      "image/png": "[encoded data removed]",
      "text/plain": [
       "<Figure size 576x432 with 1 Axes>"
      ]
     },
     "metadata": {
      "needs_background": "light"
     },
     "output_type": "display_data"
    }
   ],
   "source": [
    "plt.figure(figsize=(8,6))\n",
    "x = np.arange(3)\n",
    "model1 = np.array([19,24,27])\n",
    "model2 = np.array([6,0,9])\n",
    "model3 = np.array([55,10,14])\n",
    "model4 = np.array([20,66,50])\n",
    "width = 0.1\n",
    "tick_label = ['Easy','Medium','Hard']\n",
    "plt.bar(x-1.5*width,model1,width,label='Full GCNN')\n",
    "plt.bar(x-0.5*width,model2,width,label='TREES')\n",
    "plt.bar(x+0.5*width,model3,width,label='LMART')\n",
    "plt.bar(x+1.5*width,model4,width,label='BPFI')\n",
    "plt.ylabel('Wins',fontsize=10)  # x轴标题\n",
    "plt.xlabel('indset',fontsize=10)  # y轴标题\n",
    "plt.xticks(x,labels=tick_label)\n",
    "plt.legend()\n",
    "plt.show()"
   ]
  },
  {
   "cell_type": "code",
   "execution_count": 51,
   "metadata": {},
   "outputs": [
    {
     "data": {
      "image/png": "[encoded data removed]",
      "text/plain": [
       "<Figure size 576x432 with 1 Axes>"
      ]
     },
     "metadata": {
      "needs_background": "light"
     },
     "output_type": "display_data"
    }
   ],
   "source": [
    "plt.figure(figsize=(8,6))\n",
    "x = np.arange(3)\n",
    "model1 = np.array([8,14,11])\n",
    "model2 = np.array([1,1,4])\n",
    "model3 = np.array([78,67,48])\n",
    "model4 = np.array([13,18,37])\n",
    "width = 0.1\n",
    "tick_label = ['Easy','Medium','Hard']\n",
    "plt.bar(x-1.5*width,model1,width,label='Full GCNN')\n",
    "plt.bar(x-0.5*width,model2,width,label='TREES')\n",
    "plt.bar(x+0.5*width,model3,width,label='LMART')\n",
    "plt.bar(x+1.5*width,model4,width,label='BPFI')\n",
    "plt.ylabel('Wins',fontsize=10)  # x轴标题\n",
    "plt.xlabel('facilities',fontsize=10)  # y轴标题\n",
    "plt.xticks(x,labels=tick_label)\n",
    "plt.legend()\n",
    "plt.show()"
   ]
  }
 ],
 "metadata": {
  "interpreter": {
   "hash": "460d1e8ad1f65cd67cc2e10e182dc6d962fbacdc13e4644fd11070703448b767"
  },
  "kernelspec": {
   "display_name": "Python 3.8.10 64-bit ('learn2branch': conda)",
   "language": "python",
   "name": "python3"
  },
  "language_info": {
   "codemirror_mode": {
    "name": "ipython",
    "version": 3
   },
   "file_extension": ".py",
   "mimetype": "text/x-python",
   "name": "python",
   "nbconvert_exporter": "python",
   "pygments_lexer": "ipython3",
   "version": "3.8.10"
  },
  "orig_nbformat": 4
 },
 "nbformat": 4,
 "nbformat_minor": 2
}
