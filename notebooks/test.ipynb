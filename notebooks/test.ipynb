{
 "cells": [
  {
   "cell_type": "code",
   "execution_count": 1,
   "metadata": {},
   "outputs": [],
   "source": [
    "import pandas as pd\n",
    "import glob\n",
    "from scipy.stats import ttest_ind"
   ]
  },
  {
   "cell_type": "code",
   "execution_count": 7,
   "metadata": {},
   "outputs": [],
   "source": [
    "resultDir = 'D:\\Program Files\\dirary\\\\Next\\\\dgl\\\\BPFI-learn2branch\\\\results'"
   ]
  },
  {
   "cell_type": "code",
   "execution_count": 15,
   "metadata": {},
   "outputs": [],
   "source": [
    "problem = 'setcover' # choices=['setcover', 'cauctions', 'facilities', 'indset']\n",
    "model = ['Full-GCNN','BPFI-GCNN']\n",
    "metric_columns = ['acc@1','acc@3','acc@5','acc@10']\n"
   ]
  },
  {
   "cell_type": "code",
   "execution_count": 16,
   "metadata": {},
   "outputs": [],
   "source": [
    "model1 = model[0]\n",
    "model2 = model[1]\n",
    "# ss1 = sampling_seeds[0]\n",
    "# ss2 = sampling_seeds[1]"
   ]
  },
  {
   "cell_type": "code",
   "execution_count": 18,
   "metadata": {},
   "outputs": [],
   "source": [
    "# \n",
    "targetfiles_model1 = glob.glob(f'{resultDir}/{problem}/{model1}*')\n",
    "targetfile1 = targetfiles_model1[0]\n",
    "target_df1 = pd.read_csv(targetfile1)\n",
    "mean1 = target_df1[metric_columns].mean()\n",
    "std1 = target_df1[metric_columns].std()\n",
    "\n",
    "targetfiles_model2 = glob.glob(f'{resultDir}/{problem}/{model2}_ss*')\n",
    "targetfile2 = targetfiles_model2[0]\n",
    "target_df2 = pd.read_csv(targetfile2)\n",
    "mean2 = target_df2[metric_columns].mean()\n",
    "std2 = target_df2[metric_columns].std()\n",
    "\n",
    "t_statistics, p_values = ttest_ind(target_df1[metric_columns], target_df2[metric_columns], equal_var=False)"
   ]
  },
  {
   "cell_type": "code",
   "execution_count": 19,
   "metadata": {},
   "outputs": [
    {
     "data": {
      "text/html": [
       "<div>\n",
       "<style scoped>\n",
       "    .dataframe tbody tr th:only-of-type {\n",
       "        vertical-align: middle;\n",
       "    }\n",
       "\n",
       "    .dataframe tbody tr th {\n",
       "        vertical-align: top;\n",
       "    }\n",
       "\n",
       "    .dataframe thead th {\n",
       "        text-align: right;\n",
       "    }\n",
       "</style>\n",
       "<table border=\"1\" class=\"dataframe\">\n",
       "  <thead>\n",
       "    <tr style=\"text-align: right;\">\n",
       "      <th></th>\n",
       "      <th>Problem</th>\n",
       "      <th>Accuracy level</th>\n",
       "      <th>Full-GCNN</th>\n",
       "      <th>BPFI-GCNN</th>\n",
       "      <th>T-Test t-statistic</th>\n",
       "      <th>T-Test p-value</th>\n",
       "    </tr>\n",
       "  </thead>\n",
       "  <tbody>\n",
       "    <tr>\n",
       "      <th>0</th>\n",
       "      <td>setcover</td>\n",
       "      <td>acc@1</td>\n",
       "      <td>60.7000 ± 0.9083</td>\n",
       "      <td>61.9000 ± 0.9618</td>\n",
       "      <td>-2.0284</td>\n",
       "      <td>0.0772</td>\n",
       "    </tr>\n",
       "    <tr>\n",
       "      <th>1</th>\n",
       "      <td>setcover</td>\n",
       "      <td>acc@3</td>\n",
       "      <td>77.7000 ± 1.0368</td>\n",
       "      <td>79.5000 ± 1.1180</td>\n",
       "      <td>-2.6396</td>\n",
       "      <td>0.0299</td>\n",
       "    </tr>\n",
       "    <tr>\n",
       "      <th>2</th>\n",
       "      <td>setcover</td>\n",
       "      <td>acc@5</td>\n",
       "      <td>86.2000 ± 0.9747</td>\n",
       "      <td>86.6000 ± 1.4748</td>\n",
       "      <td>-0.5060</td>\n",
       "      <td>0.6286</td>\n",
       "    </tr>\n",
       "    <tr>\n",
       "      <th>3</th>\n",
       "      <td>setcover</td>\n",
       "      <td>acc@10</td>\n",
       "      <td>95.7000 ± 0.8367</td>\n",
       "      <td>95.0000 ± 0.8660</td>\n",
       "      <td>1.2999</td>\n",
       "      <td>0.2299</td>\n",
       "    </tr>\n",
       "  </tbody>\n",
       "</table>\n",
       "</div>"
      ],
      "text/plain": [
       "    Problem Accuracy level         Full-GCNN         BPFI-GCNN  \\\n",
       "0  setcover          acc@1  60.7000 ± 0.9083  61.9000 ± 0.9618   \n",
       "1  setcover          acc@3  77.7000 ± 1.0368  79.5000 ± 1.1180   \n",
       "2  setcover          acc@5  86.2000 ± 0.9747  86.6000 ± 1.4748   \n",
       "3  setcover         acc@10  95.7000 ± 0.8367  95.0000 ± 0.8660   \n",
       "\n",
       "  T-Test t-statistic T-Test p-value  \n",
       "0            -2.0284         0.0772  \n",
       "1            -2.6396         0.0299  \n",
       "2            -0.5060         0.6286  \n",
       "3             1.2999         0.2299  "
      ]
     },
     "execution_count": 19,
     "metadata": {},
     "output_type": "execute_result"
    }
   ],
   "source": [
    "df = pd.DataFrame()\n",
    "df['Problem'] = [problem]*4\n",
    "df['Accuracy level'] = ['acc@1', 'acc@3', 'acc@5', 'acc@10']\n",
    "df[model1] = [\"%5.4f ± %5.4f\" % (m*100, s*100) for (m, s) in zip(mean1, std1)]\n",
    "df[model2] = [\"%5.4f ± %5.4f\" % (m*100, s*100) for (m, s) in zip(mean2, std2)]\n",
    "df['T-Test t-statistic'] = [\"%5.4f\" % p for p in t_statistics]\n",
    "df['T-Test p-value'] = [\"%5.4f\" % p for p in p_values]\n",
    "df"
   ]
  }
 ],
 "metadata": {
  "interpreter": {
   "hash": "460d1e8ad1f65cd67cc2e10e182dc6d962fbacdc13e4644fd11070703448b767"
  },
  "kernelspec": {
   "display_name": "Python 3.8.10 64-bit ('learn2branch': conda)",
   "name": "python3"
  },
  "language_info": {
   "codemirror_mode": {
    "name": "ipython",
    "version": 3
   },
   "file_extension": ".py",
   "mimetype": "text/x-python",
   "name": "python",
   "nbconvert_exporter": "python",
   "pygments_lexer": "ipython3",
   "version": "3.8.10"
  },
  "orig_nbformat": 2
 },
 "nbformat": 4,
 "nbformat_minor": 2
}
