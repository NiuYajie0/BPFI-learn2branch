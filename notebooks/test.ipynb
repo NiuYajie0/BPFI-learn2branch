{
 "cells": [
  {
   "cell_type": "code",
   "execution_count": 1,
   "metadata": {},
   "outputs": [],
   "source": [
    "import pandas as pd\n",
    "import glob\n",
    "from scipy.stats import ttest_ind"
   ]
  },
  {
   "cell_type": "code",
   "execution_count": 2,
   "metadata": {},
   "outputs": [],
   "source": [
    "resultDir = ' '"
   ]
  },
  {
   "cell_type": "code",
   "execution_count": 4,
   "metadata": {},
   "outputs": [],
   "source": [
    "problem = 'indset' # choices=['setcover', 'cauctions', 'facilities', 'indset']\n",
    "model = ['Full-GCNN' , 'BPFI-GCNN']\n",
    "metric_columns = ['acc@1','acc@3','acc@5','acc@10']\n"
   ]
  },
  {
   "cell_type": "code",
   "execution_count": 5,
   "metadata": {},
   "outputs": [],
   "source": [
    "model1 = model[0]\n",
    "model2 = model[1]"
   ]
  },
  {
   "cell_type": "code",
   "execution_count": 6,
   "metadata": {},
   "outputs": [],
   "source": [
    "# \n",
    "targetfiles_model1 = glob.glob(f'{resultDir}/{problem}/{model1}*')\n",
    "targetfile1 = targetfiles_model1[0]\n",
    "target_df1 = pd.read_csv(targetfile1)\n",
    "mean1 = target_df1[metric_columns].mean()\n",
    "std1 = target_df1[metric_columns].std()\n",
    "\n",
    "targetfiles_model2 = glob.glob(f'{resultDir}/{problem}/{model2}*')\n",
    "targetfile2 = targetfiles_model2[0]\n",
    "target_df2 = pd.read_csv(targetfile2)\n",
    "mean2 = target_df2[metric_columns].mean()\n",
    "std2 = target_df2[metric_columns].std()\n",
    "\n",
    "t_statistics, p_values = ttest_ind(target_df1[metric_columns], target_df2[metric_columns], equal_var=False)"
   ]
  },
  {
   "cell_type": "code",
   "execution_count": 7,
   "metadata": {},
   "outputs": [
    {
     "data": {
      "text/html": [
       "<div>\n",
       "<style scoped>\n",
       "    .dataframe tbody tr th:only-of-type {\n",
       "        vertical-align: middle;\n",
       "    }\n",
       "\n",
       "    .dataframe tbody tr th {\n",
       "        vertical-align: top;\n",
       "    }\n",
       "\n",
       "    .dataframe thead th {\n",
       "        text-align: right;\n",
       "    }\n",
       "</style>\n",
       "<table border=\"1\" class=\"dataframe\">\n",
       "  <thead>\n",
       "    <tr style=\"text-align: right;\">\n",
       "      <th></th>\n",
       "      <th>Problem</th>\n",
       "      <th>Accuracy level</th>\n",
       "      <th>Full-GCNN</th>\n",
       "      <th>BPFI-GCNN</th>\n",
       "      <th>T-Test t-statistic</th>\n",
       "      <th>T-Test p-value</th>\n",
       "    </tr>\n",
       "  </thead>\n",
       "  <tbody>\n",
       "    <tr>\n",
       "      <th>0</th>\n",
       "      <td>indset</td>\n",
       "      <td>acc@1</td>\n",
       "      <td>29.4000 ± 26.9244</td>\n",
       "      <td>53.3000 ± 0.7583</td>\n",
       "      <td>-1.9841</td>\n",
       "      <td>0.1181</td>\n",
       "    </tr>\n",
       "    <tr>\n",
       "      <th>1</th>\n",
       "      <td>indset</td>\n",
       "      <td>acc@3</td>\n",
       "      <td>40.8000 ± 36.5848</td>\n",
       "      <td>68.2000 ± 0.9083</td>\n",
       "      <td>-1.6742</td>\n",
       "      <td>0.1693</td>\n",
       "    </tr>\n",
       "    <tr>\n",
       "      <th>2</th>\n",
       "      <td>indset</td>\n",
       "      <td>acc@5</td>\n",
       "      <td>45.8000 ± 38.8918</td>\n",
       "      <td>74.1000 ± 1.2942</td>\n",
       "      <td>-1.6262</td>\n",
       "      <td>0.1791</td>\n",
       "    </tr>\n",
       "    <tr>\n",
       "      <th>3</th>\n",
       "      <td>indset</td>\n",
       "      <td>acc@10</td>\n",
       "      <td>53.3000 ± 39.1641</td>\n",
       "      <td>81.3000 ± 1.8574</td>\n",
       "      <td>-1.5969</td>\n",
       "      <td>0.1852</td>\n",
       "    </tr>\n",
       "  </tbody>\n",
       "</table>\n",
       "</div>"
      ],
      "text/plain": [
       "  Problem Accuracy level          Full-GCNN         BPFI-GCNN  \\\n",
       "0  indset          acc@1  29.4000 ± 26.9244  53.3000 ± 0.7583   \n",
       "1  indset          acc@3  40.8000 ± 36.5848  68.2000 ± 0.9083   \n",
       "2  indset          acc@5  45.8000 ± 38.8918  74.1000 ± 1.2942   \n",
       "3  indset         acc@10  53.3000 ± 39.1641  81.3000 ± 1.8574   \n",
       "\n",
       "  T-Test t-statistic T-Test p-value  \n",
       "0            -1.9841         0.1181  \n",
       "1            -1.6742         0.1693  \n",
       "2            -1.6262         0.1791  \n",
       "3            -1.5969         0.1852  "
      ]
     },
     "execution_count": 7,
     "metadata": {},
     "output_type": "execute_result"
    }
   ],
   "source": [
    "df = pd.DataFrame()\n",
    "df['Problem'] = [problem]*4\n",
    "df['Accuracy level'] = ['acc@1', 'acc@3', 'acc@5', 'acc@10']\n",
    "df[model1] = [\"%5.4f ± %5.4f\" % (m*100, s*100) for (m, s) in zip(mean1, std1)]\n",
    "df[model2] = [\"%5.4f ± %5.4f\" % (m*100, s*100) for (m, s) in zip(mean2, std2)]\n",
    "df['T-Test t-statistic'] = [\"%5.4f\" % p for p in t_statistics]\n",
    "df['T-Test p-value'] = [\"%5.4f\" % p for p in p_values]\n",
    "df"
   ]
  }
 ],
 "metadata": {
  "interpreter": {
   "hash": "460d1e8ad1f65cd67cc2e10e182dc6d962fbacdc13e4644fd11070703448b767"
  },
  "kernelspec": {
   "display_name": "Python 3.8.10 64-bit ('learn2branch': conda)",
   "name": "python3"
  },
  "language_info": {
   "codemirror_mode": {
    "name": "ipython",
    "version": 3
   },
   "file_extension": ".py",
   "mimetype": "text/x-python",
   "name": "python",
   "nbconvert_exporter": "python",
   "pygments_lexer": "ipython3",
   "version": "3.8.10"
  },
  "orig_nbformat": 2
 },
 "nbformat": 4,
 "nbformat_minor": 2
}
